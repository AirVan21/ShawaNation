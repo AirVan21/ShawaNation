{
 "cells": [
  {
   "cell_type": "code",
   "execution_count": 1,
   "metadata": {
    "collapsed": false
   },
   "outputs": [],
   "source": [
    "%matplotlib notebook"
   ]
  },
  {
   "cell_type": "code",
   "execution_count": 2,
   "metadata": {
    "collapsed": false,
    "scrolled": true
   },
   "outputs": [
    {
     "name": "stdout",
     "output_type": "stream",
     "text": [
      "Requirement already up-to-date: matplotlib in /usr/local/lib/python2.7/dist-packages\n",
      "Requirement already up-to-date: pytz in /usr/local/lib/python2.7/dist-packages (from matplotlib)\n",
      "Requirement already up-to-date: cycler in /usr/local/lib/python2.7/dist-packages (from matplotlib)\n",
      "Requirement already up-to-date: python-dateutil in /usr/local/lib/python2.7/dist-packages (from matplotlib)\n",
      "Requirement already up-to-date: pyparsing!=2.0.0,!=2.0.4,!=2.1.2,>=1.5.6 in /usr/local/lib/python2.7/dist-packages (from matplotlib)\n",
      "Requirement already up-to-date: numpy>=1.6 in /usr/local/lib/python2.7/dist-packages (from matplotlib)\n",
      "Requirement already up-to-date: six in /usr/local/lib/python2.7/dist-packages (from cycler->matplotlib)\n",
      "Requirement already up-to-date: scipy in /usr/local/lib/python2.7/dist-packages\n",
      "Requirement already satisfied (use --upgrade to upgrade): word2vec in /usr/local/lib/python2.7/dist-packages\n",
      "Requirement already satisfied (use --upgrade to upgrade): numpy in /usr/local/lib/python2.7/dist-packages (from word2vec)\n",
      "Requirement already satisfied (use --upgrade to upgrade): cython in /usr/local/lib/python2.7/dist-packages (from word2vec)\n",
      "Requirement already satisfied (use --upgrade to upgrade): gensim in /usr/local/lib/python2.7/dist-packages\n",
      "Requirement already satisfied (use --upgrade to upgrade): smart-open>=1.2.1 in /usr/local/lib/python2.7/dist-packages (from gensim)\n",
      "Requirement already satisfied (use --upgrade to upgrade): six>=1.5.0 in /usr/local/lib/python2.7/dist-packages (from gensim)\n",
      "Requirement already satisfied (use --upgrade to upgrade): scipy>=0.7.0 in /usr/local/lib/python2.7/dist-packages (from gensim)\n",
      "Requirement already satisfied (use --upgrade to upgrade): numpy>=1.3 in /usr/local/lib/python2.7/dist-packages (from gensim)\n",
      "Requirement already satisfied (use --upgrade to upgrade): bz2file in /usr/local/lib/python2.7/dist-packages (from smart-open>=1.2.1->gensim)\n",
      "Requirement already satisfied (use --upgrade to upgrade): requests in /usr/local/lib/python2.7/dist-packages (from smart-open>=1.2.1->gensim)\n",
      "Requirement already satisfied (use --upgrade to upgrade): boto>=2.32 in /usr/local/lib/python2.7/dist-packages (from smart-open>=1.2.1->gensim)\n",
      "Requirement already satisfied (use --upgrade to upgrade): imbalanced-learn in /usr/local/lib/python2.7/dist-packages\n",
      "Requirement already satisfied (use --upgrade to upgrade): scikit-learn>=0.17.1 in /usr/local/lib/python2.7/dist-packages (from imbalanced-learn)\n",
      "Requirement already satisfied (use --upgrade to upgrade): numpy>=1.10.4 in /usr/local/lib/python2.7/dist-packages (from imbalanced-learn)\n",
      "Requirement already satisfied (use --upgrade to upgrade): scipy>=0.17.0 in /usr/local/lib/python2.7/dist-packages (from imbalanced-learn)\n",
      "'pattern' package not found; tag filters are not available for English\n"
     ]
    },
    {
     "name": "stderr",
     "output_type": "stream",
     "text": [
      "/usr/local/lib/python2.7/dist-packages/gensim/utils.py:1015: UserWarning: Pattern library is not installed, lemmatization won't be available.\n",
      "  warnings.warn(\"Pattern library is not installed, lemmatization won't be available.\")\n"
     ]
    }
   ],
   "source": [
    "import pandas as pd\n",
    "import numpy as np\n",
    "from pip import main\n",
    "from os import walk\n",
    "from os.path import join\n",
    "main(['install', '--upgrade', 'matplotlib'])\n",
    "main(['install', '--upgrade', 'scipy'])\n",
    "main(['install', 'word2vec'])\n",
    "main(['install', 'gensim'])\n",
    "main(['install', 'imbalanced-learn'])\n",
    "import gensim\n",
    "import re\n",
    "from math import ceil\n",
    "from collections import Counter\n",
    "import operator\n",
    "import matplotlib.pyplot as plt"
   ]
  },
  {
   "cell_type": "code",
   "execution_count": 3,
   "metadata": {
    "collapsed": false
   },
   "outputs": [
    {
     "name": "stdout",
     "output_type": "stream",
     "text": [
      "Requirement already satisfied (use --upgrade to upgrade): imbalanced-learn in /usr/local/lib/python2.7/dist-packages\n",
      "Requirement already satisfied (use --upgrade to upgrade): scikit-learn>=0.17.1 in /usr/local/lib/python2.7/dist-packages (from imbalanced-learn)\n",
      "Requirement already satisfied (use --upgrade to upgrade): numpy>=1.10.4 in /usr/local/lib/python2.7/dist-packages (from imbalanced-learn)\n",
      "Requirement already satisfied (use --upgrade to upgrade): scipy>=0.17.0 in /usr/local/lib/python2.7/dist-packages (from imbalanced-learn)\n"
     ]
    },
    {
     "data": {
      "text/plain": [
       "0"
      ]
     },
     "execution_count": 3,
     "metadata": {},
     "output_type": "execute_result"
    }
   ],
   "source": [
    "main(['install', 'imbalanced-learn'])"
   ]
  },
  {
   "cell_type": "code",
   "execution_count": 4,
   "metadata": {
    "collapsed": false
   },
   "outputs": [],
   "source": [
    "import matplotlib.pyplot as plt"
   ]
  },
  {
   "cell_type": "code",
   "execution_count": 5,
   "metadata": {
    "collapsed": false
   },
   "outputs": [
    {
     "data": {
      "text/plain": [
       "342"
      ]
     },
     "execution_count": 5,
     "metadata": {},
     "output_type": "execute_result"
    }
   ],
   "source": [
    "from gc import collect\n",
    "collect(2)"
   ]
  },
  {
   "cell_type": "code",
   "execution_count": null,
   "metadata": {
    "collapsed": false
   },
   "outputs": [],
   "source": []
  },
  {
   "cell_type": "code",
   "execution_count": null,
   "metadata": {
    "collapsed": false
   },
   "outputs": [],
   "source": []
  },
  {
   "cell_type": "code",
   "execution_count": 6,
   "metadata": {
    "collapsed": false
   },
   "outputs": [],
   "source": [
    "# data_path = \"IMDB_reviews.tsv\"\n",
    "# df = pd.read_csv(data_path, sep='\\t')\n",
    "# df['class'] = df.id.apply(lambda s: s.split('_')[1]).astype('int')\n",
    "# df['id'] = df.id.apply(lambda s: s.split('_')[0]).astype('int')"
   ]
  },
  {
   "cell_type": "code",
   "execution_count": 7,
   "metadata": {
    "collapsed": true
   },
   "outputs": [],
   "source": [
    "data_path = \"sentiment_restaurant.csv\"\n",
    "df = pd.read_csv(data_path, sep=',')\n",
    "df.columns = ['sentiment', 'review']\n",
    "df = df[:2000000]"
   ]
  },
  {
   "cell_type": "code",
   "execution_count": 8,
   "metadata": {
    "collapsed": true
   },
   "outputs": [],
   "source": [
    "def get_train_val_test_inds(y,train_proportion=0.8, val_proportion=0.1):\n",
    "    '''\n",
    "    stratified sampling\n",
    "    '''\n",
    "    if train_proportion + val_proportion >= 1:\n",
    "        raise Exception(\"\")\n",
    "    y=np.array(y)\n",
    "    train_inds = np.zeros(len(y),dtype=bool)\n",
    "    val_inds = np.zeros(len(y),dtype=bool)\n",
    "    test_inds = np.zeros(len(y),dtype=bool)\n",
    "    values = np.unique(y)\n",
    "    for value in values:\n",
    "        value_inds = np.nonzero(y==value)[0]\n",
    "        np.random.shuffle(value_inds)\n",
    "        n1 = int(train_proportion * len(value_inds))\n",
    "        n2 = n1 + int((val_proportion) * len(value_inds))\n",
    "\n",
    "        train_inds[value_inds[:n1]]=True\n",
    "        val_inds[value_inds[n1:n2]]=True\n",
    "        test_inds[value_inds[n2:]]=True\n",
    "\n",
    "    return train_inds, val_inds, test_inds"
   ]
  },
  {
   "cell_type": "code",
   "execution_count": 9,
   "metadata": {
    "collapsed": true
   },
   "outputs": [],
   "source": [
    "train_inds, val_inds, test_inds = get_train_val_test_inds(df.sentiment)\n",
    "DF_train, DF_val, DF_test = df[train_inds], df[val_inds], df[test_inds]"
   ]
  },
  {
   "cell_type": "code",
   "execution_count": 10,
   "metadata": {
    "collapsed": false
   },
   "outputs": [],
   "source": [
    "vec_size = 300\n",
    "def words_tokenizer(text_series):\n",
    "    regex = re.compile('[^a-zA-Z ]')\n",
    "    result = []\n",
    "    for text in text_series:\n",
    "        result.append(re.sub(regex, '', text).lower())\n",
    "    return result"
   ]
  },
  {
   "cell_type": "code",
   "execution_count": 11,
   "metadata": {
    "collapsed": true
   },
   "outputs": [],
   "source": [
    "def get_words_dict(df, vocab, topN=100000):\n",
    "    counter = Counter(re.findall(r\"[\\w']+\", \" \".join(words_tokenizer(df.review))))\n",
    "    words_dict = list(filter(lambda (w, c): len(w) >= 2, counter.items()))\n",
    "    common = set(vocab.keys()).intersection(set(map(operator.itemgetter(0), words_dict)))\n",
    "    words_dict = list(filter(lambda (w, c): w in common, words_dict))\n",
    "    words_dict = sorted(words_dict, key=operator.itemgetter(1), reverse=True)[:topN]\n",
    "    words_dict = dict((pair[0], i) for i, pair in enumerate(words_dict))\n",
    "    return words_dict, common"
   ]
  },
  {
   "cell_type": "code",
   "execution_count": 12,
   "metadata": {
    "collapsed": false
   },
   "outputs": [
    {
     "name": "stdout",
     "output_type": "stream",
     "text": [
      "loading projection weights from GoogleNews-vectors-negative300.bin\n",
      "loaded (3000000, 300) matrix from GoogleNews-vectors-negative300.bin\n"
     ]
    }
   ],
   "source": [
    "model = gensim.models.Word2Vec.load_word2vec_format('GoogleNews-vectors-negative300.bin', binary=True)  "
   ]
  },
  {
   "cell_type": "code",
   "execution_count": 13,
   "metadata": {
    "collapsed": false
   },
   "outputs": [],
   "source": [
    "words_dict, common_words = get_words_dict(df, model.vocab)"
   ]
  },
  {
   "cell_type": "code",
   "execution_count": 14,
   "metadata": {
    "collapsed": false
   },
   "outputs": [],
   "source": [
    "embeddings_matrix = model.syn0[[model.vocab[word].index for word in common_words]]\n",
    "common_words = list(common_words)\n",
    "trimmed_dict = dict((x, i) for i,x in enumerate(common_words))\n",
    "# from pickle import load\n",
    "# with open('embeddings.pkl', 'r') as f:\n",
    "#     model = load(f)\n",
    "# embeddings = model['embeddings']\n",
    "# dictionary = model['dictionary']\n",
    "\n",
    "# common_words = set(words_dict.keys()).intersection(set(dictionary.keys()))\n",
    "# embeddings_matrix = embeddings[[dictionary[word] for word in common_words]]\n",
    "# common_words = list(common_words)\n",
    "# trimmed_dict = dict((x, i) for i,x in enumerate(common_words))\n",
    "# reverse_dict = dict((i, x) for i,x in enumerate(common_words))"
   ]
  },
  {
   "cell_type": "code",
   "execution_count": 15,
   "metadata": {
    "collapsed": false
   },
   "outputs": [
    {
     "data": {
      "text/plain": [
       "94653"
      ]
     },
     "execution_count": 15,
     "metadata": {},
     "output_type": "execute_result"
    }
   ],
   "source": [
    "len(common_words)"
   ]
  },
  {
   "cell_type": "code",
   "execution_count": 16,
   "metadata": {
    "collapsed": true
   },
   "outputs": [],
   "source": [
    "def word_2_vec(model, word):\n",
    "    if word in model:\n",
    "        return model[word]\n",
    "    return None\n",
    "\n",
    "def text_2_vec(text):\n",
    "    regex = re.compile('[^a-zA-Z ]')\n",
    "    words = re.sub(regex, '', text).lower().split()\n",
    "    res = np.zeros((0, vec_size))\n",
    "    for word in words:\n",
    "        vec = word_2_vec(model, word)\n",
    "        if vec is not None:\n",
    "            res = np.vstack((res, vec.reshape(1, vec_size)))\n",
    "    return res\n",
    "\n",
    "# def word_2_vec(word):\n",
    "#     if word in dictionary:\n",
    "#         return embeddings[dictionary[word]]\n",
    "#     return None\n",
    "\n",
    "# def text_2_vec(text):\n",
    "#     regex = re.compile('[^a-zA-Z ]')\n",
    "#     words = re.sub(regex, '', text).lower().split()\n",
    "#     res = np.zeros((0, vec_size))\n",
    "#     for word in words:\n",
    "#         vec = word_2_vec(word)\n",
    "#         if vec is not None:\n",
    "#             res = np.vstack((res, vec.reshape(1, vec_size)))\n",
    "#     return res\n",
    "\n",
    "def word_2_id(word):\n",
    "    if word in trimmed_dict:\n",
    "        return np.array(trimmed_dict[word])\n",
    "    return None\n",
    "\n",
    "def text_2_id(text):\n",
    "    regex = re.compile('[^a-zA-Z ]')\n",
    "    words = re.sub(regex, '', text).lower().split()\n",
    "    res = np.zeros((0, 1), dtype='int32')\n",
    "    for word in words:\n",
    "        vec = word_2_id(word)\n",
    "        if vec is not None:\n",
    "            res = np.vstack((res, vec))\n",
    "    return res"
   ]
  },
  {
   "cell_type": "code",
   "execution_count": 17,
   "metadata": {
    "collapsed": false
   },
   "outputs": [
    {
     "name": "stderr",
     "output_type": "stream",
     "text": [
      "Using Theano backend.\n",
      "Using gpu device 0: GeForce GTX 660 (CNMeM is enabled with initial size: 50.0% of memory, cuDNN not available)\n"
     ]
    }
   ],
   "source": [
    "from keras.utils.np_utils import to_categorical"
   ]
  },
  {
   "cell_type": "code",
   "execution_count": 18,
   "metadata": {
    "collapsed": true
   },
   "outputs": [],
   "source": [
    "def get_data_block(df, block_size=1000, shift=0, max_len=None):\n",
    "    X_temp = [0] * min(block_size, len(df))\n",
    "    for i in range(min(block_size, len(df) - shift)):\n",
    "        vec = text_2_id(df.iloc[shift + i].review)\n",
    "        X_temp[i] = vec\n",
    "    X_temp = np.array(X_temp)\n",
    "    if max_len is None:\n",
    "        max_len = max(map(lambda x: len(x), X_temp))\n",
    "    X = np.zeros((len(X_temp), max_len))\n",
    "    for i in range(len(X_temp)):\n",
    "#         X[i,:X_temp[i].shape[0],:] = X_temp[i]\n",
    "        temp_vec = X_temp[i][:min(max_len, X_temp[i].shape[0])]\n",
    "        X[i,:min(max_len, X_temp[i].shape[0])] = temp_vec.reshape((len(temp_vec),))\n",
    "    Y = df.sentiment[shift:shift + len(X)] / 5\n",
    "    Y.reset_index(drop=True, inplace=True)\n",
    "    Y = pd.DataFrame(Y)\n",
    "    return X, Y.as_matrix(), max_len"
   ]
  },
  {
   "cell_type": "code",
   "execution_count": 19,
   "metadata": {
    "collapsed": false
   },
   "outputs": [],
   "source": [
    "import keras.models\n",
    "from keras.models import Sequential\n",
    "from keras.layers import Dense, Masking, Dropout, Embedding\n",
    "from keras.layers import TimeDistributed, Flatten, Merge\n",
    "from keras.layers.pooling import GlobalAveragePooling1D\n",
    "from keras.layers.embeddings import Embedding\n",
    "from keras.layers.recurrent import GRU, LSTM, SimpleRNN\n",
    "from keras.layers.normalization import BatchNormalization\n",
    "from keras.regularizers import l2, activity_l2, l1, activity_l1\n",
    "from keras.optimizers import Adam, Nadam\n",
    "from keras import backend as K"
   ]
  },
  {
   "cell_type": "code",
   "execution_count": 20,
   "metadata": {
    "collapsed": true
   },
   "outputs": [],
   "source": [
    "def plt_update(fig, ax, y, colors=['b']):\n",
    "    x = np.linspace(0,1,len(y))\n",
    "    if ax.lines:\n",
    "        for line in ax.lines:\n",
    "            line.set_xdata(x)\n",
    "            line.set_ydata(y)\n",
    "    else:\n",
    "        for color in colors:\n",
    "            ax.plot(x, y, color)\n",
    "    fig.canvas.draw()"
   ]
  },
  {
   "cell_type": "code",
   "execution_count": 21,
   "metadata": {
    "collapsed": true
   },
   "outputs": [],
   "source": [
    "from sklearn.metrics import accuracy_score"
   ]
  },
  {
   "cell_type": "code",
   "execution_count": 95,
   "metadata": {
    "collapsed": false
   },
   "outputs": [],
   "source": [
    "def train_rnn(DF_train, Keras_model, max_len, X_val, Y_val):\n",
    "    fig,ax = plt.subplots(1,1)\n",
    "    ax.set_xlabel('iteration')\n",
    "    ax.set_ylabel('loss')\n",
    "    ax.set_xlim(0,1)\n",
    "    ax.set_ylim(0.0,0.5)\n",
    "    loss_series = []    \n",
    "    block_size = 80\n",
    "    nb_epoch = 3\n",
    "    for epoch in range(nb_epoch):\n",
    "        total_cnt = 0\n",
    "        rigth_cnt = 0\n",
    "        for i in range(int(ceil(len(DF_train) * 1.0 / block_size))):\n",
    "            shift = i * block_size\n",
    "            cur_size = min(block_size, len(DF_train) - shift)\n",
    "            X_train, Y_train, _ = get_data_block(DF_train, shift=shift, block_size=cur_size, max_len=max_len)\n",
    "            metrics = Keras_model.train_on_batch(X_train, Y_train)\n",
    "            total_cnt += block_size\n",
    "            rigth_cnt += int(metrics[1].item() * block_size)\n",
    "            accuracy = rigth_cnt * 1.0 / total_cnt\n",
    "            loss = metrics[0].item()\n",
    "            loss_series += [loss]\n",
    "            plt_update(fig, ax, loss_series)\n",
    "#             print(\"Epoch %s, batch %s, results %s\" % (epoch, i, [metrics[0].item(), accuracy]))\n",
    "        loss_and_metrics = Keras_model.evaluate(X_val, Y_val, batch_size=block_size)\n",
    "        print(loss_and_metrics)\n",
    "\n",
    "def test_rnn(X_val, Y_val, Keras_model):\n",
    "    loss_and_metrics = Keras_model.evaluate(X_val, Y_val, batch_size=80)\n",
    "    print(loss_and_metrics)"
   ]
  },
  {
   "cell_type": "code",
   "execution_count": 23,
   "metadata": {
    "collapsed": true
   },
   "outputs": [],
   "source": [
    "max_len = 200"
   ]
  },
  {
   "cell_type": "code",
   "execution_count": 24,
   "metadata": {
    "collapsed": false
   },
   "outputs": [],
   "source": [
    "Keras_model = Sequential()\n",
    "# M = Masking(mask_value=0,input_shape=(max_len, vec_size))\n",
    "# Keras_model.add(M)\n",
    "Keras_model.add(Embedding(len(embeddings_matrix),\n",
    "                            vec_size,\n",
    "                            weights=[embeddings_matrix],\n",
    "                            input_length=max_len,\n",
    "                            trainable=True))\n",
    "Keras_model.add(LSTM(vec_size, return_sequences=True))\n",
    "Keras_model.add(Dropout(0.5))\n",
    "Keras_model.add(TimeDistributed(Dense(output_dim=100, activation='tanh')))\n",
    "Keras_model.add(Dropout(0.5))\n",
    "Keras_model.add(TimeDistributed(Dense(output_dim=20, activation='tanh')))\n",
    "Keras_model.add(Dropout(0.5))\n",
    "Keras_model.add(TimeDistributed(Dense(output_dim=2, activation='tanh')))\n",
    "# Keras_model.add(Dropout(0.5))\n",
    "Keras_model.add(GlobalAveragePooling1D())\n",
    "Keras_model.add(Dropout(0.5))\n",
    "# Keras_model.add(BatchNormalization())\n",
    "Keras_model.add(Dense(1, activation=\"tanh\")) #W_regularizer=l1(0.01), activity_regularizer=activity_l1(0.01)\n",
    "optimizer = Adam(lr=0.0001)\n",
    "Keras_model.compile(optimizer=optimizer, loss='mse', metrics=['accuracy'])"
   ]
  },
  {
   "cell_type": "code",
   "execution_count": 25,
   "metadata": {
    "collapsed": false,
    "scrolled": false
   },
   "outputs": [],
   "source": [
    "# from imblearn.under_sampling import AllKNN\n",
    "# allknn = AllKNN()\n",
    "import imblearn\n",
    "imblearn = reload(imblearn)\n",
    "def undersample(df):\n",
    "    under_sampler = imblearn.RandomUnderSampler()\n",
    "    DF_train_indices = pd.DataFrame(range(len(df)))\n",
    "    X_train = np.expand_dims(DF_train_indices.as_matrix(), axis=1)\n",
    "    Y_train = df.sentiment.as_matrix()\n",
    "    DF_train_resampled_idx, _ = under_sampler.fit_sample(X_train, Y_train)\n",
    "    DF_train_resampled = DF_train.iloc[np.squeeze(DF_train_resampled_idx)]\n",
    "    DF_train_resampled = DF_train_resampled.iloc[np.random.permutation(np.arange(len(DF_train_resampled)))]\n",
    "    return DF_train_resampled"
   ]
  },
  {
   "cell_type": "code",
   "execution_count": 26,
   "metadata": {
    "collapsed": false
   },
   "outputs": [
    {
     "name": "stdout",
     "output_type": "stream",
     "text": [
      "Compute classes statistics ...\n",
      "5 classes detected: Counter({5: 620112, 4: 428937, 3: 206056, 1: 204437, 2: 140456})\n",
      "Under-sampling performed: Counter({1: 140456, 2: 140456, 3: 140456, 4: 140456, 5: 140456})\n"
     ]
    }
   ],
   "source": [
    "DF_train_resampled = undersample(DF_train)"
   ]
  },
  {
   "cell_type": "code",
   "execution_count": 27,
   "metadata": {
    "collapsed": false
   },
   "outputs": [
    {
     "name": "stdout",
     "output_type": "stream",
     "text": [
      "Compute classes statistics ...\n",
      "5 classes detected: Counter({5: 77514, 4: 53617, 3: 25757, 1: 25554, 2: 17557})\n",
      "Under-sampling performed: Counter({1: 17557, 2: 17557, 3: 17557, 4: 17557, 5: 17557})\n"
     ]
    }
   ],
   "source": [
    "DF_val_resampled = undersample(DF_val)"
   ]
  },
  {
   "cell_type": "code",
   "execution_count": 28,
   "metadata": {
    "collapsed": true
   },
   "outputs": [],
   "source": [
    "X_val, Y_val, _ = get_data_block(DF_val_resampled, shift=0, block_size=len(DF_val_resampled), max_len=max_len)"
   ]
  },
  {
   "cell_type": "code",
   "execution_count": 96,
   "metadata": {
    "collapsed": false,
    "scrolled": false
   },
   "outputs": [
    {
     "data": {
      "application/javascript": [
       "/* Put everything inside the global mpl namespace */\n",
       "window.mpl = {};\n",
       "\n",
       "mpl.get_websocket_type = function() {\n",
       "    if (typeof(WebSocket) !== 'undefined') {\n",
       "        return WebSocket;\n",
       "    } else if (typeof(MozWebSocket) !== 'undefined') {\n",
       "        return MozWebSocket;\n",
       "    } else {\n",
       "        alert('Your browser does not have WebSocket support.' +\n",
       "              'Please try Chrome, Safari or Firefox ≥ 6. ' +\n",
       "              'Firefox 4 and 5 are also supported but you ' +\n",
       "              'have to enable WebSockets in about:config.');\n",
       "    };\n",
       "}\n",
       "\n",
       "mpl.figure = function(figure_id, websocket, ondownload, parent_element) {\n",
       "    this.id = figure_id;\n",
       "\n",
       "    this.ws = websocket;\n",
       "\n",
       "    this.supports_binary = (this.ws.binaryType != undefined);\n",
       "\n",
       "    if (!this.supports_binary) {\n",
       "        var warnings = document.getElementById(\"mpl-warnings\");\n",
       "        if (warnings) {\n",
       "            warnings.style.display = 'block';\n",
       "            warnings.textContent = (\n",
       "                \"This browser does not support binary websocket messages. \" +\n",
       "                    \"Performance may be slow.\");\n",
       "        }\n",
       "    }\n",
       "\n",
       "    this.imageObj = new Image();\n",
       "\n",
       "    this.context = undefined;\n",
       "    this.message = undefined;\n",
       "    this.canvas = undefined;\n",
       "    this.rubberband_canvas = undefined;\n",
       "    this.rubberband_context = undefined;\n",
       "    this.format_dropdown = undefined;\n",
       "\n",
       "    this.image_mode = 'full';\n",
       "\n",
       "    this.root = $('<div/>');\n",
       "    this._root_extra_style(this.root)\n",
       "    this.root.attr('style', 'display: inline-block');\n",
       "\n",
       "    $(parent_element).append(this.root);\n",
       "\n",
       "    this._init_header(this);\n",
       "    this._init_canvas(this);\n",
       "    this._init_toolbar(this);\n",
       "\n",
       "    var fig = this;\n",
       "\n",
       "    this.waiting = false;\n",
       "\n",
       "    this.ws.onopen =  function () {\n",
       "            fig.send_message(\"supports_binary\", {value: fig.supports_binary});\n",
       "            fig.send_message(\"send_image_mode\", {});\n",
       "            fig.send_message(\"refresh\", {});\n",
       "        }\n",
       "\n",
       "    this.imageObj.onload = function() {\n",
       "            if (fig.image_mode == 'full') {\n",
       "                // Full images could contain transparency (where diff images\n",
       "                // almost always do), so we need to clear the canvas so that\n",
       "                // there is no ghosting.\n",
       "                fig.context.clearRect(0, 0, fig.canvas.width, fig.canvas.height);\n",
       "            }\n",
       "            fig.context.drawImage(fig.imageObj, 0, 0);\n",
       "        };\n",
       "\n",
       "    this.imageObj.onunload = function() {\n",
       "        this.ws.close();\n",
       "    }\n",
       "\n",
       "    this.ws.onmessage = this._make_on_message_function(this);\n",
       "\n",
       "    this.ondownload = ondownload;\n",
       "}\n",
       "\n",
       "mpl.figure.prototype._init_header = function() {\n",
       "    var titlebar = $(\n",
       "        '<div class=\"ui-dialog-titlebar ui-widget-header ui-corner-all ' +\n",
       "        'ui-helper-clearfix\"/>');\n",
       "    var titletext = $(\n",
       "        '<div class=\"ui-dialog-title\" style=\"width: 100%; ' +\n",
       "        'text-align: center; padding: 3px;\"/>');\n",
       "    titlebar.append(titletext)\n",
       "    this.root.append(titlebar);\n",
       "    this.header = titletext[0];\n",
       "}\n",
       "\n",
       "\n",
       "\n",
       "mpl.figure.prototype._canvas_extra_style = function(canvas_div) {\n",
       "\n",
       "}\n",
       "\n",
       "\n",
       "mpl.figure.prototype._root_extra_style = function(canvas_div) {\n",
       "\n",
       "}\n",
       "\n",
       "mpl.figure.prototype._init_canvas = function() {\n",
       "    var fig = this;\n",
       "\n",
       "    var canvas_div = $('<div/>');\n",
       "\n",
       "    canvas_div.attr('style', 'position: relative; clear: both; outline: 0');\n",
       "\n",
       "    function canvas_keyboard_event(event) {\n",
       "        return fig.key_event(event, event['data']);\n",
       "    }\n",
       "\n",
       "    canvas_div.keydown('key_press', canvas_keyboard_event);\n",
       "    canvas_div.keyup('key_release', canvas_keyboard_event);\n",
       "    this.canvas_div = canvas_div\n",
       "    this._canvas_extra_style(canvas_div)\n",
       "    this.root.append(canvas_div);\n",
       "\n",
       "    var canvas = $('<canvas/>');\n",
       "    canvas.addClass('mpl-canvas');\n",
       "    canvas.attr('style', \"left: 0; top: 0; z-index: 0; outline: 0\")\n",
       "\n",
       "    this.canvas = canvas[0];\n",
       "    this.context = canvas[0].getContext(\"2d\");\n",
       "\n",
       "    var rubberband = $('<canvas/>');\n",
       "    rubberband.attr('style', \"position: absolute; left: 0; top: 0; z-index: 1;\")\n",
       "\n",
       "    var pass_mouse_events = true;\n",
       "\n",
       "    canvas_div.resizable({\n",
       "        start: function(event, ui) {\n",
       "            pass_mouse_events = false;\n",
       "        },\n",
       "        resize: function(event, ui) {\n",
       "            fig.request_resize(ui.size.width, ui.size.height);\n",
       "        },\n",
       "        stop: function(event, ui) {\n",
       "            pass_mouse_events = true;\n",
       "            fig.request_resize(ui.size.width, ui.size.height);\n",
       "        },\n",
       "    });\n",
       "\n",
       "    function mouse_event_fn(event) {\n",
       "        if (pass_mouse_events)\n",
       "            return fig.mouse_event(event, event['data']);\n",
       "    }\n",
       "\n",
       "    rubberband.mousedown('button_press', mouse_event_fn);\n",
       "    rubberband.mouseup('button_release', mouse_event_fn);\n",
       "    // Throttle sequential mouse events to 1 every 20ms.\n",
       "    rubberband.mousemove('motion_notify', mouse_event_fn);\n",
       "\n",
       "    rubberband.mouseenter('figure_enter', mouse_event_fn);\n",
       "    rubberband.mouseleave('figure_leave', mouse_event_fn);\n",
       "\n",
       "    canvas_div.on(\"wheel\", function (event) {\n",
       "        event = event.originalEvent;\n",
       "        event['data'] = 'scroll'\n",
       "        if (event.deltaY < 0) {\n",
       "            event.step = 1;\n",
       "        } else {\n",
       "            event.step = -1;\n",
       "        }\n",
       "        mouse_event_fn(event);\n",
       "    });\n",
       "\n",
       "    canvas_div.append(canvas);\n",
       "    canvas_div.append(rubberband);\n",
       "\n",
       "    this.rubberband = rubberband;\n",
       "    this.rubberband_canvas = rubberband[0];\n",
       "    this.rubberband_context = rubberband[0].getContext(\"2d\");\n",
       "    this.rubberband_context.strokeStyle = \"#000000\";\n",
       "\n",
       "    this._resize_canvas = function(width, height) {\n",
       "        // Keep the size of the canvas, canvas container, and rubber band\n",
       "        // canvas in synch.\n",
       "        canvas_div.css('width', width)\n",
       "        canvas_div.css('height', height)\n",
       "\n",
       "        canvas.attr('width', width);\n",
       "        canvas.attr('height', height);\n",
       "\n",
       "        rubberband.attr('width', width);\n",
       "        rubberband.attr('height', height);\n",
       "    }\n",
       "\n",
       "    // Set the figure to an initial 600x600px, this will subsequently be updated\n",
       "    // upon first draw.\n",
       "    this._resize_canvas(600, 600);\n",
       "\n",
       "    // Disable right mouse context menu.\n",
       "    $(this.rubberband_canvas).bind(\"contextmenu\",function(e){\n",
       "        return false;\n",
       "    });\n",
       "\n",
       "    function set_focus () {\n",
       "        canvas.focus();\n",
       "        canvas_div.focus();\n",
       "    }\n",
       "\n",
       "    window.setTimeout(set_focus, 100);\n",
       "}\n",
       "\n",
       "mpl.figure.prototype._init_toolbar = function() {\n",
       "    var fig = this;\n",
       "\n",
       "    var nav_element = $('<div/>')\n",
       "    nav_element.attr('style', 'width: 100%');\n",
       "    this.root.append(nav_element);\n",
       "\n",
       "    // Define a callback function for later on.\n",
       "    function toolbar_event(event) {\n",
       "        return fig.toolbar_button_onclick(event['data']);\n",
       "    }\n",
       "    function toolbar_mouse_event(event) {\n",
       "        return fig.toolbar_button_onmouseover(event['data']);\n",
       "    }\n",
       "\n",
       "    for(var toolbar_ind in mpl.toolbar_items) {\n",
       "        var name = mpl.toolbar_items[toolbar_ind][0];\n",
       "        var tooltip = mpl.toolbar_items[toolbar_ind][1];\n",
       "        var image = mpl.toolbar_items[toolbar_ind][2];\n",
       "        var method_name = mpl.toolbar_items[toolbar_ind][3];\n",
       "\n",
       "        if (!name) {\n",
       "            // put a spacer in here.\n",
       "            continue;\n",
       "        }\n",
       "        var button = $('<button/>');\n",
       "        button.addClass('ui-button ui-widget ui-state-default ui-corner-all ' +\n",
       "                        'ui-button-icon-only');\n",
       "        button.attr('role', 'button');\n",
       "        button.attr('aria-disabled', 'false');\n",
       "        button.click(method_name, toolbar_event);\n",
       "        button.mouseover(tooltip, toolbar_mouse_event);\n",
       "\n",
       "        var icon_img = $('<span/>');\n",
       "        icon_img.addClass('ui-button-icon-primary ui-icon');\n",
       "        icon_img.addClass(image);\n",
       "        icon_img.addClass('ui-corner-all');\n",
       "\n",
       "        var tooltip_span = $('<span/>');\n",
       "        tooltip_span.addClass('ui-button-text');\n",
       "        tooltip_span.html(tooltip);\n",
       "\n",
       "        button.append(icon_img);\n",
       "        button.append(tooltip_span);\n",
       "\n",
       "        nav_element.append(button);\n",
       "    }\n",
       "\n",
       "    var fmt_picker_span = $('<span/>');\n",
       "\n",
       "    var fmt_picker = $('<select/>');\n",
       "    fmt_picker.addClass('mpl-toolbar-option ui-widget ui-widget-content');\n",
       "    fmt_picker_span.append(fmt_picker);\n",
       "    nav_element.append(fmt_picker_span);\n",
       "    this.format_dropdown = fmt_picker[0];\n",
       "\n",
       "    for (var ind in mpl.extensions) {\n",
       "        var fmt = mpl.extensions[ind];\n",
       "        var option = $(\n",
       "            '<option/>', {selected: fmt === mpl.default_extension}).html(fmt);\n",
       "        fmt_picker.append(option)\n",
       "    }\n",
       "\n",
       "    // Add hover states to the ui-buttons\n",
       "    $( \".ui-button\" ).hover(\n",
       "        function() { $(this).addClass(\"ui-state-hover\");},\n",
       "        function() { $(this).removeClass(\"ui-state-hover\");}\n",
       "    );\n",
       "\n",
       "    var status_bar = $('<span class=\"mpl-message\"/>');\n",
       "    nav_element.append(status_bar);\n",
       "    this.message = status_bar[0];\n",
       "}\n",
       "\n",
       "mpl.figure.prototype.request_resize = function(x_pixels, y_pixels) {\n",
       "    // Request matplotlib to resize the figure. Matplotlib will then trigger a resize in the client,\n",
       "    // which will in turn request a refresh of the image.\n",
       "    this.send_message('resize', {'width': x_pixels, 'height': y_pixels});\n",
       "}\n",
       "\n",
       "mpl.figure.prototype.send_message = function(type, properties) {\n",
       "    properties['type'] = type;\n",
       "    properties['figure_id'] = this.id;\n",
       "    this.ws.send(JSON.stringify(properties));\n",
       "}\n",
       "\n",
       "mpl.figure.prototype.send_draw_message = function() {\n",
       "    if (!this.waiting) {\n",
       "        this.waiting = true;\n",
       "        this.ws.send(JSON.stringify({type: \"draw\", figure_id: this.id}));\n",
       "    }\n",
       "}\n",
       "\n",
       "\n",
       "mpl.figure.prototype.handle_save = function(fig, msg) {\n",
       "    var format_dropdown = fig.format_dropdown;\n",
       "    var format = format_dropdown.options[format_dropdown.selectedIndex].value;\n",
       "    fig.ondownload(fig, format);\n",
       "}\n",
       "\n",
       "\n",
       "mpl.figure.prototype.handle_resize = function(fig, msg) {\n",
       "    var size = msg['size'];\n",
       "    if (size[0] != fig.canvas.width || size[1] != fig.canvas.height) {\n",
       "        fig._resize_canvas(size[0], size[1]);\n",
       "        fig.send_message(\"refresh\", {});\n",
       "    };\n",
       "}\n",
       "\n",
       "mpl.figure.prototype.handle_rubberband = function(fig, msg) {\n",
       "    var x0 = msg['x0'];\n",
       "    var y0 = fig.canvas.height - msg['y0'];\n",
       "    var x1 = msg['x1'];\n",
       "    var y1 = fig.canvas.height - msg['y1'];\n",
       "    x0 = Math.floor(x0) + 0.5;\n",
       "    y0 = Math.floor(y0) + 0.5;\n",
       "    x1 = Math.floor(x1) + 0.5;\n",
       "    y1 = Math.floor(y1) + 0.5;\n",
       "    var min_x = Math.min(x0, x1);\n",
       "    var min_y = Math.min(y0, y1);\n",
       "    var width = Math.abs(x1 - x0);\n",
       "    var height = Math.abs(y1 - y0);\n",
       "\n",
       "    fig.rubberband_context.clearRect(\n",
       "        0, 0, fig.canvas.width, fig.canvas.height);\n",
       "\n",
       "    fig.rubberband_context.strokeRect(min_x, min_y, width, height);\n",
       "}\n",
       "\n",
       "mpl.figure.prototype.handle_figure_label = function(fig, msg) {\n",
       "    // Updates the figure title.\n",
       "    fig.header.textContent = msg['label'];\n",
       "}\n",
       "\n",
       "mpl.figure.prototype.handle_cursor = function(fig, msg) {\n",
       "    var cursor = msg['cursor'];\n",
       "    switch(cursor)\n",
       "    {\n",
       "    case 0:\n",
       "        cursor = 'pointer';\n",
       "        break;\n",
       "    case 1:\n",
       "        cursor = 'default';\n",
       "        break;\n",
       "    case 2:\n",
       "        cursor = 'crosshair';\n",
       "        break;\n",
       "    case 3:\n",
       "        cursor = 'move';\n",
       "        break;\n",
       "    }\n",
       "    fig.rubberband_canvas.style.cursor = cursor;\n",
       "}\n",
       "\n",
       "mpl.figure.prototype.handle_message = function(fig, msg) {\n",
       "    fig.message.textContent = msg['message'];\n",
       "}\n",
       "\n",
       "mpl.figure.prototype.handle_draw = function(fig, msg) {\n",
       "    // Request the server to send over a new figure.\n",
       "    fig.send_draw_message();\n",
       "}\n",
       "\n",
       "mpl.figure.prototype.handle_image_mode = function(fig, msg) {\n",
       "    fig.image_mode = msg['mode'];\n",
       "}\n",
       "\n",
       "mpl.figure.prototype.updated_canvas_event = function() {\n",
       "    // Called whenever the canvas gets updated.\n",
       "    this.send_message(\"ack\", {});\n",
       "}\n",
       "\n",
       "// A function to construct a web socket function for onmessage handling.\n",
       "// Called in the figure constructor.\n",
       "mpl.figure.prototype._make_on_message_function = function(fig) {\n",
       "    return function socket_on_message(evt) {\n",
       "        if (evt.data instanceof Blob) {\n",
       "            /* FIXME: We get \"Resource interpreted as Image but\n",
       "             * transferred with MIME type text/plain:\" errors on\n",
       "             * Chrome.  But how to set the MIME type?  It doesn't seem\n",
       "             * to be part of the websocket stream */\n",
       "            evt.data.type = \"image/png\";\n",
       "\n",
       "            /* Free the memory for the previous frames */\n",
       "            if (fig.imageObj.src) {\n",
       "                (window.URL || window.webkitURL).revokeObjectURL(\n",
       "                    fig.imageObj.src);\n",
       "            }\n",
       "\n",
       "            fig.imageObj.src = (window.URL || window.webkitURL).createObjectURL(\n",
       "                evt.data);\n",
       "            fig.updated_canvas_event();\n",
       "            fig.waiting = false;\n",
       "            return;\n",
       "        }\n",
       "        else if (typeof evt.data === 'string' && evt.data.slice(0, 21) == \"data:image/png;base64\") {\n",
       "            fig.imageObj.src = evt.data;\n",
       "            fig.updated_canvas_event();\n",
       "            fig.waiting = false;\n",
       "            return;\n",
       "        }\n",
       "\n",
       "        var msg = JSON.parse(evt.data);\n",
       "        var msg_type = msg['type'];\n",
       "\n",
       "        // Call the  \"handle_{type}\" callback, which takes\n",
       "        // the figure and JSON message as its only arguments.\n",
       "        try {\n",
       "            var callback = fig[\"handle_\" + msg_type];\n",
       "        } catch (e) {\n",
       "            console.log(\"No handler for the '\" + msg_type + \"' message type: \", msg);\n",
       "            return;\n",
       "        }\n",
       "\n",
       "        if (callback) {\n",
       "            try {\n",
       "                // console.log(\"Handling '\" + msg_type + \"' message: \", msg);\n",
       "                callback(fig, msg);\n",
       "            } catch (e) {\n",
       "                console.log(\"Exception inside the 'handler_\" + msg_type + \"' callback:\", e, e.stack, msg);\n",
       "            }\n",
       "        }\n",
       "    };\n",
       "}\n",
       "\n",
       "// from http://stackoverflow.com/questions/1114465/getting-mouse-location-in-canvas\n",
       "mpl.findpos = function(e) {\n",
       "    //this section is from http://www.quirksmode.org/js/events_properties.html\n",
       "    var targ;\n",
       "    if (!e)\n",
       "        e = window.event;\n",
       "    if (e.target)\n",
       "        targ = e.target;\n",
       "    else if (e.srcElement)\n",
       "        targ = e.srcElement;\n",
       "    if (targ.nodeType == 3) // defeat Safari bug\n",
       "        targ = targ.parentNode;\n",
       "\n",
       "    // jQuery normalizes the pageX and pageY\n",
       "    // pageX,Y are the mouse positions relative to the document\n",
       "    // offset() returns the position of the element relative to the document\n",
       "    var x = e.pageX - $(targ).offset().left;\n",
       "    var y = e.pageY - $(targ).offset().top;\n",
       "\n",
       "    return {\"x\": x, \"y\": y};\n",
       "};\n",
       "\n",
       "/*\n",
       " * return a copy of an object with only non-object keys\n",
       " * we need this to avoid circular references\n",
       " * http://stackoverflow.com/a/24161582/3208463\n",
       " */\n",
       "function simpleKeys (original) {\n",
       "  return Object.keys(original).reduce(function (obj, key) {\n",
       "    if (typeof original[key] !== 'object')\n",
       "        obj[key] = original[key]\n",
       "    return obj;\n",
       "  }, {});\n",
       "}\n",
       "\n",
       "mpl.figure.prototype.mouse_event = function(event, name) {\n",
       "    var canvas_pos = mpl.findpos(event)\n",
       "\n",
       "    if (name === 'button_press')\n",
       "    {\n",
       "        this.canvas.focus();\n",
       "        this.canvas_div.focus();\n",
       "    }\n",
       "\n",
       "    var x = canvas_pos.x;\n",
       "    var y = canvas_pos.y;\n",
       "\n",
       "    this.send_message(name, {x: x, y: y, button: event.button,\n",
       "                             step: event.step,\n",
       "                             guiEvent: simpleKeys(event)});\n",
       "\n",
       "    /* This prevents the web browser from automatically changing to\n",
       "     * the text insertion cursor when the button is pressed.  We want\n",
       "     * to control all of the cursor setting manually through the\n",
       "     * 'cursor' event from matplotlib */\n",
       "    event.preventDefault();\n",
       "    return false;\n",
       "}\n",
       "\n",
       "mpl.figure.prototype._key_event_extra = function(event, name) {\n",
       "    // Handle any extra behaviour associated with a key event\n",
       "}\n",
       "\n",
       "mpl.figure.prototype.key_event = function(event, name) {\n",
       "\n",
       "    // Prevent repeat events\n",
       "    if (name == 'key_press')\n",
       "    {\n",
       "        if (event.which === this._key)\n",
       "            return;\n",
       "        else\n",
       "            this._key = event.which;\n",
       "    }\n",
       "    if (name == 'key_release')\n",
       "        this._key = null;\n",
       "\n",
       "    var value = '';\n",
       "    if (event.ctrlKey && event.which != 17)\n",
       "        value += \"ctrl+\";\n",
       "    if (event.altKey && event.which != 18)\n",
       "        value += \"alt+\";\n",
       "    if (event.shiftKey && event.which != 16)\n",
       "        value += \"shift+\";\n",
       "\n",
       "    value += 'k';\n",
       "    value += event.which.toString();\n",
       "\n",
       "    this._key_event_extra(event, name);\n",
       "\n",
       "    this.send_message(name, {key: value,\n",
       "                             guiEvent: simpleKeys(event)});\n",
       "    return false;\n",
       "}\n",
       "\n",
       "mpl.figure.prototype.toolbar_button_onclick = function(name) {\n",
       "    if (name == 'download') {\n",
       "        this.handle_save(this, null);\n",
       "    } else {\n",
       "        this.send_message(\"toolbar_button\", {name: name});\n",
       "    }\n",
       "};\n",
       "\n",
       "mpl.figure.prototype.toolbar_button_onmouseover = function(tooltip) {\n",
       "    this.message.textContent = tooltip;\n",
       "};\n",
       "mpl.toolbar_items = [[\"Home\", \"Reset original view\", \"fa fa-home icon-home\", \"home\"], [\"Back\", \"Back to  previous view\", \"fa fa-arrow-left icon-arrow-left\", \"back\"], [\"Forward\", \"Forward to next view\", \"fa fa-arrow-right icon-arrow-right\", \"forward\"], [\"\", \"\", \"\", \"\"], [\"Pan\", \"Pan axes with left mouse, zoom with right\", \"fa fa-arrows icon-move\", \"pan\"], [\"Zoom\", \"Zoom to rectangle\", \"fa fa-square-o icon-check-empty\", \"zoom\"], [\"\", \"\", \"\", \"\"], [\"Download\", \"Download plot\", \"fa fa-floppy-o icon-save\", \"download\"]];\n",
       "\n",
       "mpl.extensions = [\"eps\", \"jpeg\", \"pdf\", \"png\", \"ps\", \"raw\", \"svg\", \"tif\"];\n",
       "\n",
       "mpl.default_extension = \"png\";var comm_websocket_adapter = function(comm) {\n",
       "    // Create a \"websocket\"-like object which calls the given IPython comm\n",
       "    // object with the appropriate methods. Currently this is a non binary\n",
       "    // socket, so there is still some room for performance tuning.\n",
       "    var ws = {};\n",
       "\n",
       "    ws.close = function() {\n",
       "        comm.close()\n",
       "    };\n",
       "    ws.send = function(m) {\n",
       "        //console.log('sending', m);\n",
       "        comm.send(m);\n",
       "    };\n",
       "    // Register the callback with on_msg.\n",
       "    comm.on_msg(function(msg) {\n",
       "        //console.log('receiving', msg['content']['data'], msg);\n",
       "        // Pass the mpl event to the overriden (by mpl) onmessage function.\n",
       "        ws.onmessage(msg['content']['data'])\n",
       "    });\n",
       "    return ws;\n",
       "}\n",
       "\n",
       "mpl.mpl_figure_comm = function(comm, msg) {\n",
       "    // This is the function which gets called when the mpl process\n",
       "    // starts-up an IPython Comm through the \"matplotlib\" channel.\n",
       "\n",
       "    var id = msg.content.data.id;\n",
       "    // Get hold of the div created by the display call when the Comm\n",
       "    // socket was opened in Python.\n",
       "    var element = $(\"#\" + id);\n",
       "    var ws_proxy = comm_websocket_adapter(comm)\n",
       "\n",
       "    function ondownload(figure, format) {\n",
       "        window.open(figure.imageObj.src);\n",
       "    }\n",
       "\n",
       "    var fig = new mpl.figure(id, ws_proxy,\n",
       "                           ondownload,\n",
       "                           element.get(0));\n",
       "\n",
       "    // Call onopen now - mpl needs it, as it is assuming we've passed it a real\n",
       "    // web socket which is closed, not our websocket->open comm proxy.\n",
       "    ws_proxy.onopen();\n",
       "\n",
       "    fig.parent_element = element.get(0);\n",
       "    fig.cell_info = mpl.find_output_cell(\"<div id='\" + id + \"'></div>\");\n",
       "    if (!fig.cell_info) {\n",
       "        console.error(\"Failed to find cell for figure\", id, fig);\n",
       "        return;\n",
       "    }\n",
       "\n",
       "    var output_index = fig.cell_info[2]\n",
       "    var cell = fig.cell_info[0];\n",
       "\n",
       "};\n",
       "\n",
       "mpl.figure.prototype.handle_close = function(fig, msg) {\n",
       "    fig.root.unbind('remove')\n",
       "\n",
       "    // Update the output cell to use the data from the current canvas.\n",
       "    fig.push_to_output();\n",
       "    var dataURL = fig.canvas.toDataURL();\n",
       "    // Re-enable the keyboard manager in IPython - without this line, in FF,\n",
       "    // the notebook keyboard shortcuts fail.\n",
       "    IPython.keyboard_manager.enable()\n",
       "    $(fig.parent_element).html('<img src=\"' + dataURL + '\">');\n",
       "    fig.close_ws(fig, msg);\n",
       "}\n",
       "\n",
       "mpl.figure.prototype.close_ws = function(fig, msg){\n",
       "    fig.send_message('closing', msg);\n",
       "    // fig.ws.close()\n",
       "}\n",
       "\n",
       "mpl.figure.prototype.push_to_output = function(remove_interactive) {\n",
       "    // Turn the data on the canvas into data in the output cell.\n",
       "    var dataURL = this.canvas.toDataURL();\n",
       "    this.cell_info[1]['text/html'] = '<img src=\"' + dataURL + '\">';\n",
       "}\n",
       "\n",
       "mpl.figure.prototype.updated_canvas_event = function() {\n",
       "    // Tell IPython that the notebook contents must change.\n",
       "    IPython.notebook.set_dirty(true);\n",
       "    this.send_message(\"ack\", {});\n",
       "    var fig = this;\n",
       "    // Wait a second, then push the new image to the DOM so\n",
       "    // that it is saved nicely (might be nice to debounce this).\n",
       "    setTimeout(function () { fig.push_to_output() }, 1000);\n",
       "}\n",
       "\n",
       "mpl.figure.prototype._init_toolbar = function() {\n",
       "    var fig = this;\n",
       "\n",
       "    var nav_element = $('<div/>')\n",
       "    nav_element.attr('style', 'width: 100%');\n",
       "    this.root.append(nav_element);\n",
       "\n",
       "    // Define a callback function for later on.\n",
       "    function toolbar_event(event) {\n",
       "        return fig.toolbar_button_onclick(event['data']);\n",
       "    }\n",
       "    function toolbar_mouse_event(event) {\n",
       "        return fig.toolbar_button_onmouseover(event['data']);\n",
       "    }\n",
       "\n",
       "    for(var toolbar_ind in mpl.toolbar_items){\n",
       "        var name = mpl.toolbar_items[toolbar_ind][0];\n",
       "        var tooltip = mpl.toolbar_items[toolbar_ind][1];\n",
       "        var image = mpl.toolbar_items[toolbar_ind][2];\n",
       "        var method_name = mpl.toolbar_items[toolbar_ind][3];\n",
       "\n",
       "        if (!name) { continue; };\n",
       "\n",
       "        var button = $('<button class=\"btn btn-default\" href=\"#\" title=\"' + name + '\"><i class=\"fa ' + image + ' fa-lg\"></i></button>');\n",
       "        button.click(method_name, toolbar_event);\n",
       "        button.mouseover(tooltip, toolbar_mouse_event);\n",
       "        nav_element.append(button);\n",
       "    }\n",
       "\n",
       "    // Add the status bar.\n",
       "    var status_bar = $('<span class=\"mpl-message\" style=\"text-align:right; float: right;\"/>');\n",
       "    nav_element.append(status_bar);\n",
       "    this.message = status_bar[0];\n",
       "\n",
       "    // Add the close button to the window.\n",
       "    var buttongrp = $('<div class=\"btn-group inline pull-right\"></div>');\n",
       "    var button = $('<button class=\"btn btn-mini btn-primary\" href=\"#\" title=\"Stop Interaction\"><i class=\"fa fa-power-off icon-remove icon-large\"></i></button>');\n",
       "    button.click(function (evt) { fig.handle_close(fig, {}); } );\n",
       "    button.mouseover('Stop Interaction', toolbar_mouse_event);\n",
       "    buttongrp.append(button);\n",
       "    var titlebar = this.root.find($('.ui-dialog-titlebar'));\n",
       "    titlebar.prepend(buttongrp);\n",
       "}\n",
       "\n",
       "mpl.figure.prototype._root_extra_style = function(el){\n",
       "    var fig = this\n",
       "    el.on(\"remove\", function(){\n",
       "\tfig.close_ws(fig, {});\n",
       "    });\n",
       "}\n",
       "\n",
       "mpl.figure.prototype._canvas_extra_style = function(el){\n",
       "    // this is important to make the div 'focusable\n",
       "    el.attr('tabindex', 0)\n",
       "    // reach out to IPython and tell the keyboard manager to turn it's self\n",
       "    // off when our div gets focus\n",
       "\n",
       "    // location in version 3\n",
       "    if (IPython.notebook.keyboard_manager) {\n",
       "        IPython.notebook.keyboard_manager.register_events(el);\n",
       "    }\n",
       "    else {\n",
       "        // location in version 2\n",
       "        IPython.keyboard_manager.register_events(el);\n",
       "    }\n",
       "\n",
       "}\n",
       "\n",
       "mpl.figure.prototype._key_event_extra = function(event, name) {\n",
       "    var manager = IPython.notebook.keyboard_manager;\n",
       "    if (!manager)\n",
       "        manager = IPython.keyboard_manager;\n",
       "\n",
       "    // Check for shift+enter\n",
       "    if (event.shiftKey && event.which == 13) {\n",
       "        this.canvas_div.blur();\n",
       "        // select the cell after this one\n",
       "        var index = IPython.notebook.find_cell_index(this.cell_info[0]);\n",
       "        IPython.notebook.select(index + 1);\n",
       "    }\n",
       "}\n",
       "\n",
       "mpl.figure.prototype.handle_save = function(fig, msg) {\n",
       "    fig.ondownload(fig, null);\n",
       "}\n",
       "\n",
       "\n",
       "mpl.find_output_cell = function(html_output) {\n",
       "    // Return the cell and output element which can be found *uniquely* in the notebook.\n",
       "    // Note - this is a bit hacky, but it is done because the \"notebook_saving.Notebook\"\n",
       "    // IPython event is triggered only after the cells have been serialised, which for\n",
       "    // our purposes (turning an active figure into a static one), is too late.\n",
       "    var cells = IPython.notebook.get_cells();\n",
       "    var ncells = cells.length;\n",
       "    for (var i=0; i<ncells; i++) {\n",
       "        var cell = cells[i];\n",
       "        if (cell.cell_type === 'code'){\n",
       "            for (var j=0; j<cell.output_area.outputs.length; j++) {\n",
       "                var data = cell.output_area.outputs[j];\n",
       "                if (data.data) {\n",
       "                    // IPython >= 3 moved mimebundle to data attribute of output\n",
       "                    data = data.data;\n",
       "                }\n",
       "                if (data['text/html'] == html_output) {\n",
       "                    return [cell, data, j];\n",
       "                }\n",
       "            }\n",
       "        }\n",
       "    }\n",
       "}\n",
       "\n",
       "// Register the function which deals with the matplotlib target/channel.\n",
       "// The kernel may be null if the page has been refreshed.\n",
       "if (IPython.notebook.kernel != null) {\n",
       "    IPython.notebook.kernel.comm_manager.register_target('matplotlib', mpl.mpl_figure_comm);\n",
       "}\n"
      ],
      "text/plain": [
       "<IPython.core.display.Javascript object>"
      ]
     },
     "metadata": {},
     "output_type": "display_data"
    },
    {
     "data": {
      "text/html": [
       "<img src=\"data:image/png;base64,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\">"
      ],
      "text/plain": [
       "<IPython.core.display.HTML object>"
      ]
     },
     "metadata": {},
     "output_type": "display_data"
    },
    {
     "name": "stdout",
     "output_type": "stream",
     "text": [
      "87785/87785 [==============================] - 214s   \n",
      "[0.025541326871119832, 0.37433502295161597]\n",
      "87785/87785 [==============================] - 209s   \n",
      "[0.027194375349536004, 0.37086062508535972]\n",
      "87785/87785 [==============================] - 227s   \n",
      "[0.024489818263612018, 0.37332118218516941]\n"
     ]
    }
   ],
   "source": [
    "train_rnn(DF_train_resampled, Keras_model, max_len, X_val, Y_val)"
   ]
  },
  {
   "cell_type": "code",
   "execution_count": 30,
   "metadata": {
    "collapsed": false
   },
   "outputs": [],
   "source": [
    "X_test, Y_test, _ = get_data_block(DF_test, shift=0, block_size=2500, max_len=max_len)"
   ]
  },
  {
   "cell_type": "code",
   "execution_count": 99,
   "metadata": {
    "collapsed": false,
    "scrolled": true
   },
   "outputs": [
    {
     "name": "stdout",
     "output_type": "stream",
     "text": [
      "100000/100000 [==============================] - 254s   \n",
      "[0.017152374683693052, 0.0]\n"
     ]
    }
   ],
   "source": [
    "test_rnn(X_test, Y_test, Keras_model)"
   ]
  },
  {
   "cell_type": "code",
   "execution_count": 55,
   "metadata": {
    "collapsed": false,
    "scrolled": true
   },
   "outputs": [],
   "source": [
    "Y_pred = Keras_model.predict(X_val, batch_size=80, verbose=1)"
   ]
  },
  {
   "cell_type": "code",
   "execution_count": 56,
   "metadata": {
    "collapsed": false,
    "scrolled": true
   },
   "outputs": [
    {
     "name": "stdout",
     "output_type": "stream",
     "text": [
      "0.975314689298\n"
     ]
    }
   ],
   "source": [
    "diff_val = (abs(Y_pred - Y_val))\n",
    "print(len(diff_val[diff_val <= 0.4]) * 1.0 /len(diff_val))"
   ]
  },
  {
   "cell_type": "code",
   "execution_count": 57,
   "metadata": {
    "collapsed": false
   },
   "outputs": [
    {
     "data": {
      "text/plain": [
       "array([[ 0.66811293]], dtype=float32)"
      ]
     },
     "execution_count": 57,
     "metadata": {},
     "output_type": "execute_result"
    }
   ],
   "source": [
    "vec = np.zeros((1, 200))\n",
    "Keras_model.predict(vec, batch_size=1)"
   ]
  },
  {
   "cell_type": "code",
   "execution_count": 58,
   "metadata": {
    "collapsed": false
   },
   "outputs": [
    {
     "data": {
      "text/plain": [
       "array([[ 0.88152218,  0.8       ],\n",
       "       [ 0.82387143,  1.        ],\n",
       "       [ 0.80890661,  1.        ],\n",
       "       ..., \n",
       "       [ 0.80411071,  0.8       ],\n",
       "       [ 0.7622273 ,  1.        ],\n",
       "       [ 0.88149107,  1.        ]])"
      ]
     },
     "execution_count": 58,
     "metadata": {},
     "output_type": "execute_result"
    }
   ],
   "source": [
    "np.hstack((Y_pred, Y_val))"
   ]
  },
  {
   "cell_type": "code",
   "execution_count": 82,
   "metadata": {
    "collapsed": false
   },
   "outputs": [
    {
     "ename": "ValueError",
     "evalue": "operands could not be broadcast together with shapes (100000,1) (87785,1) ",
     "output_type": "error",
     "traceback": [
      "\u001b[0;31m\u001b[0m",
      "\u001b[0;31mValueError\u001b[0mTraceback (most recent call last)",
      "\u001b[0;32m<ipython-input-82-97f0b0980301>\u001b[0m in \u001b[0;36m<module>\u001b[0;34m()\u001b[0m\n\u001b[0;32m----> 1\u001b[0;31m \u001b[0;34m(\u001b[0m\u001b[0mabs\u001b[0m\u001b[0;34m(\u001b[0m\u001b[0mY_pred\u001b[0m \u001b[0;34m-\u001b[0m \u001b[0mY_val\u001b[0m\u001b[0;34m)\u001b[0m\u001b[0;34m)\u001b[0m\u001b[0;34m.\u001b[0m\u001b[0mmean\u001b[0m\u001b[0;34m(\u001b[0m\u001b[0;34m)\u001b[0m\u001b[0;34m\u001b[0m\u001b[0m\n\u001b[0m",
      "\u001b[0;31mValueError\u001b[0m: operands could not be broadcast together with shapes (100000,1) (87785,1) "
     ]
    }
   ],
   "source": [
    "(abs(Y_pred - Y_val)).mean()"
   ]
  },
  {
   "cell_type": "code",
   "execution_count": 97,
   "metadata": {
    "collapsed": false
   },
   "outputs": [],
   "source": [
    "from pickle import dump\n",
    "with open(\"sentiment_model.pkl\", \"w+\") as f:\n",
    "    dump(trimmed_dict, f)"
   ]
  },
  {
   "cell_type": "code",
   "execution_count": 98,
   "metadata": {
    "collapsed": true
   },
   "outputs": [],
   "source": [
    "Keras_model.save(\"sentiment_model_keras.pkl\")"
   ]
  },
  {
   "cell_type": "code",
   "execution_count": 114,
   "metadata": {
    "collapsed": false
   },
   "outputs": [],
   "source": [
    "X_test, Y_test, _ = get_data_block(DF_train[DF_train.sentiment > 3], shift=0, block_size=100000, max_len=max_len)"
   ]
  },
  {
   "cell_type": "code",
   "execution_count": 115,
   "metadata": {
    "collapsed": false
   },
   "outputs": [
    {
     "name": "stdout",
     "output_type": "stream",
     "text": [
      "100000/100000 [==============================] - 258s   \n",
      "[0.026297023997455836, 0.5922400002360344]\n"
     ]
    }
   ],
   "source": [
    "test_rnn(X_test, Y_test, Keras_model)"
   ]
  },
  {
   "cell_type": "code",
   "execution_count": 85,
   "metadata": {
    "collapsed": false
   },
   "outputs": [
    {
     "name": "stdout",
     "output_type": "stream",
     "text": [
      "100000/100000 [==============================] - 241s   \n"
     ]
    }
   ],
   "source": [
    "Y_pred = Keras_model.predict(X_test, batch_size=80, verbose=1)"
   ]
  },
  {
   "cell_type": "code",
   "execution_count": 92,
   "metadata": {
    "collapsed": false
   },
   "outputs": [
    {
     "name": "stdout",
     "output_type": "stream",
     "text": [
      "0.29968\n"
     ]
    }
   ],
   "source": [
    "diff_val = (abs(Y_pred - Y_test))\n",
    "print(len(diff_val[diff_val <= 0.1]) * 1.0 /len(diff_val))"
   ]
  },
  {
   "cell_type": "code",
   "execution_count": 101,
   "metadata": {
    "collapsed": false
   },
   "outputs": [
    {
     "data": {
      "text/plain": [
       "array([[ 0.4861351 ,  0.2       ],\n",
       "       [ 0.30069625,  0.2       ],\n",
       "       [ 0.66811293,  0.4       ],\n",
       "       [ 0.18033791,  0.2       ],\n",
       "       [ 0.39250967,  0.2       ],\n",
       "       [ 0.53995693,  0.4       ],\n",
       "       [ 0.66037714,  0.4       ],\n",
       "       [ 0.51017499,  0.4       ],\n",
       "       [ 0.88280761,  0.2       ],\n",
       "       [ 0.29174837,  0.2       ]])"
      ]
     },
     "execution_count": 101,
     "metadata": {},
     "output_type": "execute_result"
    }
   ],
   "source": [
    "np.hstack((Y_pred, Y_test))[10:20]"
   ]
  },
  {
   "cell_type": "code",
   "execution_count": 116,
   "metadata": {
    "collapsed": false
   },
   "outputs": [
    {
     "data": {
      "text/plain": [
       "9"
      ]
     },
     "execution_count": 116,
     "metadata": {},
     "output_type": "execute_result"
    }
   ],
   "source": [
    "from gc import collect\n",
    "collect(2)"
   ]
  },
  {
   "cell_type": "code",
   "execution_count": 112,
   "metadata": {
    "collapsed": false
   },
   "outputs": [],
   "source": [
    "text = \"Price: pita 170/170 in pita bread  All ku! Our cozy neighborhood is famous for, in addition to the high level of crime, drug abuse and other obscurantism, love for the kebab. It is ambrosia, the fuel of delicious food and simply enjoy the food in solitude or in the company of loved ones/friends. Probably everyone has a favorite temple of the Goddess of All the Dishes close to home/work/centre for the fight against obesity. For many years me and my friends happily absorbed the Goddess of Happiness on the street of Jaroslav Hasek, the most famous in the whole area SuperMario where on the same patch lined up several stalls with Santelli. But one day, a friend of mine found out about this place, about which I would like to tell You, dear friends.  I do not want to describe how to prepare the Shawarma here, but I will say briefly-she's soulful. In this cafe (cafe?) incredible for such temples clean, warm and even has a toilet Wi-Fi. Prepare jockeys gloves, money takes either a woman or a jockey taking off a glove. Citizens, workers always wear the uniform of cooks and doing everything on the conscience. A lot of meat, lot of vegetables, sauce abound. Nothing is dry, everything is fresh and very tasty. I am a supporter of the canonical execution, so I ask them to do me a kebab on the classics, but for fans of the additives you can add pickled cucumbers, greens, cabbage and carrots in Korean. Carefully, with enthusiasm and without disregard for its work and the stomachs of visitors. Definitely put this place a 'pleasure'. In the summer and generally when it's warm on the terrace, put the tables and the bench, which is very nice.\""
   ]
  },
  {
   "cell_type": "code",
   "execution_count": 104,
   "metadata": {
    "collapsed": false
   },
   "outputs": [],
   "source": [
    "def calc_sentiment(text):\n",
    "    input_len = Keras_model.layers[0].input_shape[1] # 200\n",
    "    vec_id = text_2_id(text)\n",
    "    if len(vec_id) < input_len:\n",
    "        vec_id_tmp = np.zeros((1, input_len))\n",
    "        vec_id_tmp[:,:len(vec_id)] = np.array(vec_id).reshape((1, len(vec_id)))\n",
    "        vec_id = vec_id_tmp\n",
    "    begin_i = 0\n",
    "    end_i = min(len(vec_id), input_len)\n",
    "    sentiment_res = []\n",
    "    while end_i <= len(vec_id):\n",
    "        text_df = np.array(vec_id[begin_i:end_i]).reshape((1, input_len))\n",
    "        sent = Keras_model.predict(text_df, batch_size=1)[0][0]\n",
    "        sentiment_res += [sent]\n",
    "        if end_i == len(vec_id):\n",
    "            break\n",
    "        end_i = min(end_i + input_len, len(vec_id))\n",
    "        begin_i = end_i - input_len\n",
    "    if len(sentiment_res) > 1:\n",
    "        sentiment_res[-2] = (sentiment_res[-2] + sentiment_res[-1]) / 2\n",
    "        del sentiment_res[-1]\n",
    "    return np.array(sentiment_res).mean()"
   ]
  },
  {
   "cell_type": "code",
   "execution_count": 113,
   "metadata": {
    "collapsed": false
   },
   "outputs": [
    {
     "data": {
      "text/plain": [
       "0.90265786647796631"
      ]
     },
     "execution_count": 113,
     "metadata": {},
     "output_type": "execute_result"
    }
   ],
   "source": [
    "calc_sentiment(text)"
   ]
  },
  {
   "cell_type": "code",
   "execution_count": 47,
   "metadata": {
    "collapsed": false
   },
   "outputs": [
    {
     "data": {
      "text/plain": [
       "200"
      ]
     },
     "execution_count": 47,
     "metadata": {},
     "output_type": "execute_result"
    }
   ],
   "source": [
    "Keras_model.layers[0].input_shape[1]"
   ]
  },
  {
   "cell_type": "code",
   "execution_count": 48,
   "metadata": {
    "collapsed": true
   },
   "outputs": [],
   "source": [
    "from sklearn.decomposition import TruncatedSVD, PCA"
   ]
  },
  {
   "cell_type": "code",
   "execution_count": 49,
   "metadata": {
    "collapsed": false
   },
   "outputs": [
    {
     "ename": "NameError",
     "evalue": "name 'embeddings' is not defined",
     "output_type": "error",
     "traceback": [
      "\u001b[0;31m\u001b[0m",
      "\u001b[0;31mNameError\u001b[0mTraceback (most recent call last)",
      "\u001b[0;32m<ipython-input-49-1937e2a902d6>\u001b[0m in \u001b[0;36m<module>\u001b[0;34m()\u001b[0m\n\u001b[1;32m      2\u001b[0m \u001b[0;34m\u001b[0m\u001b[0m\n\u001b[1;32m      3\u001b[0m \u001b[0mtsne\u001b[0m \u001b[0;34m=\u001b[0m \u001b[0mTruncatedSVD\u001b[0m\u001b[0;34m(\u001b[0m\u001b[0mn_components\u001b[0m\u001b[0;34m=\u001b[0m\u001b[0;36m2\u001b[0m\u001b[0;34m)\u001b[0m\u001b[0;34m\u001b[0m\u001b[0m\n\u001b[0;32m----> 4\u001b[0;31m \u001b[0mtwo_d_embeddings\u001b[0m \u001b[0;34m=\u001b[0m \u001b[0mtsne\u001b[0m\u001b[0;34m.\u001b[0m\u001b[0mfit_transform\u001b[0m\u001b[0;34m(\u001b[0m\u001b[0membeddings\u001b[0m\u001b[0;34m[\u001b[0m\u001b[0mtarget_indices\u001b[0m\u001b[0;34m,\u001b[0m \u001b[0;34m:\u001b[0m\u001b[0;34m]\u001b[0m\u001b[0;34m)\u001b[0m\u001b[0;34m\u001b[0m\u001b[0m\n\u001b[0m\u001b[1;32m      5\u001b[0m \u001b[0;32mdef\u001b[0m \u001b[0mplot\u001b[0m\u001b[0;34m(\u001b[0m\u001b[0membeddings\u001b[0m\u001b[0;34m,\u001b[0m \u001b[0mlabels\u001b[0m\u001b[0;34m)\u001b[0m\u001b[0;34m:\u001b[0m\u001b[0;34m\u001b[0m\u001b[0m\n\u001b[1;32m      6\u001b[0m   \u001b[0;32massert\u001b[0m \u001b[0membeddings\u001b[0m\u001b[0;34m.\u001b[0m\u001b[0mshape\u001b[0m\u001b[0;34m[\u001b[0m\u001b[0;36m0\u001b[0m\u001b[0;34m]\u001b[0m \u001b[0;34m>=\u001b[0m \u001b[0mlen\u001b[0m\u001b[0;34m(\u001b[0m\u001b[0mlabels\u001b[0m\u001b[0;34m)\u001b[0m\u001b[0;34m,\u001b[0m \u001b[0;34m'More labels than embeddings'\u001b[0m\u001b[0;34m\u001b[0m\u001b[0m\n",
      "\u001b[0;31mNameError\u001b[0m: name 'embeddings' is not defined"
     ]
    }
   ],
   "source": [
    "word_top={'some', 'that', 'good', 'film', 'they', 'what', 'movie', 'would', 'just', 'even', 'from', 'there', 'when', 'like', 'about', 'with', 'very', 'this', 'have', 'more'}\n",
    "\n",
    "tsne = TruncatedSVD(n_components=2)\n",
    "two_d_embeddings = tsne.fit_transform(embeddings[target_indices, :])\n",
    "def plot(embeddings, labels):\n",
    "  assert embeddings.shape[0] >= len(labels), 'More labels than embeddings'\n",
    "  plt.figure(figsize=(12,12))  # in inches\n",
    "  for i, label in enumerate(labels):\n",
    "    x, y = embeddings[i,:]\n",
    "    plt.scatter(x, y)\n",
    "    plt.annotate(label, xy=(x, y), xytext=(5, 2), textcoords='offset points',\n",
    "                   ha='right', va='bottom')\n",
    "  plt.show()\n",
    "\n",
    "plot(two_d_embeddings, word_top)"
   ]
  },
  {
   "cell_type": "code",
   "execution_count": null,
   "metadata": {
    "collapsed": false
   },
   "outputs": [],
   "source": [
    "block_size = 2\n",
    "shift = 10\n",
    "X_temp = [0] * min(block_size, len(df))\n",
    "for i in range(min(block_size, len(df) - shift)):\n",
    "    vec = text_2_id(df.iloc[shift + i].review)\n",
    "    X_temp[i] = vec\n",
    "X_temp = np.array(X_temp)\n",
    "if max_len is None:\n",
    "    max_len = max(map(lambda x: len(x), X_temp))\n",
    "X = np.zeros((len(X_temp), max_len))\n",
    "for i in range(len(X_temp)):\n",
    "#         X[i,:X_temp[i].shape[0],:] = X_temp[i]\n",
    "    temp_vec = X_temp[i][:min(max_len, X_temp[i].shape[0])]\n",
    "    X[i,:min(max_len, X_temp[i].shape[0])] = temp_vec.reshape((len(temp_vec),))\n",
    "Y = df.sentiment[shift:shift + len(X)]\n",
    "Y.reset_index(drop=True, inplace=True)\n",
    "Y = pd.DataFrame(Y)\n",
    "pd.DataFrame(Y)['not_sentiment'] = np.abs(Y-1)\n",
    "Y = Y.as_matrix()"
   ]
  },
  {
   "cell_type": "code",
   "execution_count": null,
   "metadata": {
    "collapsed": false
   },
   "outputs": [],
   "source": [
    "\" \".join(map(lambda x: reverse_dict[x[0]], X_temp[1])), Y[1]"
   ]
  },
  {
   "cell_type": "code",
   "execution_count": null,
   "metadata": {
    "collapsed": false
   },
   "outputs": [],
   "source": [
    "df.review[11], df.sentiment[11]"
   ]
  },
  {
   "cell_type": "code",
   "execution_count": null,
   "metadata": {
    "collapsed": false
   },
   "outputs": [],
   "source": [
    "reverse_dict[0]"
   ]
  }
 ],
 "metadata": {
  "kernelspec": {
   "display_name": "Python 2",
   "language": "python",
   "name": "python2"
  },
  "language_info": {
   "codemirror_mode": {
    "name": "ipython",
    "version": 2
   },
   "file_extension": ".py",
   "mimetype": "text/x-python",
   "name": "python",
   "nbconvert_exporter": "python",
   "pygments_lexer": "ipython2",
   "version": "2.7.6"
  }
 },
 "nbformat": 4,
 "nbformat_minor": 1
}
