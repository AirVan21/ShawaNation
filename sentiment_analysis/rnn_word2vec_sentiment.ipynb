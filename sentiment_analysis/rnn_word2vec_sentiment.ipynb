{
 "cells": [
  {
   "cell_type": "code",
   "execution_count": 1,
   "metadata": {
    "collapsed": false
   },
   "outputs": [],
   "source": [
    "%matplotlib notebook"
   ]
  },
  {
   "cell_type": "code",
   "execution_count": 2,
   "metadata": {
    "collapsed": false,
    "scrolled": true
   },
   "outputs": [
    {
     "name": "stdout",
     "output_type": "stream",
     "text": [
      "Requirement already up-to-date: matplotlib in /usr/local/lib/python2.7/dist-packages\n",
      "Requirement already up-to-date: pytz in /usr/local/lib/python2.7/dist-packages (from matplotlib)\n",
      "Requirement already up-to-date: cycler in /usr/local/lib/python2.7/dist-packages (from matplotlib)\n",
      "Requirement already up-to-date: python-dateutil in /usr/local/lib/python2.7/dist-packages (from matplotlib)\n",
      "Requirement already up-to-date: pyparsing!=2.0.0,!=2.0.4,!=2.1.2,>=1.5.6 in /usr/local/lib/python2.7/dist-packages (from matplotlib)\n",
      "Requirement already up-to-date: numpy>=1.6 in /usr/local/lib/python2.7/dist-packages (from matplotlib)\n",
      "Requirement already up-to-date: six in /usr/local/lib/python2.7/dist-packages (from cycler->matplotlib)\n",
      "Requirement already up-to-date: scipy in /usr/local/lib/python2.7/dist-packages\n",
      "Requirement already satisfied (use --upgrade to upgrade): word2vec in /usr/local/lib/python2.7/dist-packages\n",
      "Requirement already satisfied (use --upgrade to upgrade): numpy in /usr/local/lib/python2.7/dist-packages (from word2vec)\n",
      "Requirement already satisfied (use --upgrade to upgrade): cython in /usr/local/lib/python2.7/dist-packages (from word2vec)\n",
      "Requirement already satisfied (use --upgrade to upgrade): gensim in /usr/local/lib/python2.7/dist-packages\n",
      "Requirement already satisfied (use --upgrade to upgrade): smart-open>=1.2.1 in /usr/local/lib/python2.7/dist-packages (from gensim)\n",
      "Requirement already satisfied (use --upgrade to upgrade): six>=1.5.0 in /usr/local/lib/python2.7/dist-packages (from gensim)\n",
      "Requirement already satisfied (use --upgrade to upgrade): scipy>=0.7.0 in /usr/local/lib/python2.7/dist-packages (from gensim)\n",
      "Requirement already satisfied (use --upgrade to upgrade): numpy>=1.3 in /usr/local/lib/python2.7/dist-packages (from gensim)\n",
      "Requirement already satisfied (use --upgrade to upgrade): bz2file in /usr/local/lib/python2.7/dist-packages (from smart-open>=1.2.1->gensim)\n",
      "Requirement already satisfied (use --upgrade to upgrade): requests in /usr/local/lib/python2.7/dist-packages (from smart-open>=1.2.1->gensim)\n",
      "Requirement already satisfied (use --upgrade to upgrade): boto>=2.32 in /usr/local/lib/python2.7/dist-packages (from smart-open>=1.2.1->gensim)\n",
      "Requirement already satisfied (use --upgrade to upgrade): imbalanced-learn in /usr/local/lib/python2.7/dist-packages\n",
      "Requirement already satisfied (use --upgrade to upgrade): scikit-learn>=0.17.1 in /usr/local/lib/python2.7/dist-packages (from imbalanced-learn)\n",
      "Requirement already satisfied (use --upgrade to upgrade): numpy>=1.10.4 in /usr/local/lib/python2.7/dist-packages (from imbalanced-learn)\n",
      "Requirement already satisfied (use --upgrade to upgrade): scipy>=0.17.0 in /usr/local/lib/python2.7/dist-packages (from imbalanced-learn)\n",
      "'pattern' package not found; tag filters are not available for English\n"
     ]
    },
    {
     "name": "stderr",
     "output_type": "stream",
     "text": [
      "/usr/local/lib/python2.7/dist-packages/gensim/utils.py:1015: UserWarning: Pattern library is not installed, lemmatization won't be available.\n",
      "  warnings.warn(\"Pattern library is not installed, lemmatization won't be available.\")\n"
     ]
    }
   ],
   "source": [
    "import pandas as pd\n",
    "import numpy as np\n",
    "from pip import main\n",
    "from os import walk\n",
    "from os.path import join\n",
    "main(['install', '--upgrade', 'matplotlib'])\n",
    "main(['install', '--upgrade', 'scipy'])\n",
    "main(['install', 'word2vec'])\n",
    "main(['install', 'gensim'])\n",
    "main(['install', 'imbalanced-learn'])\n",
    "import gensim\n",
    "import re\n",
    "from math import ceil\n",
    "from collections import Counter\n",
    "import operator\n",
    "import matplotlib.pyplot as plt"
   ]
  },
  {
   "cell_type": "code",
   "execution_count": 3,
   "metadata": {
    "collapsed": false
   },
   "outputs": [
    {
     "name": "stdout",
     "output_type": "stream",
     "text": [
      "Requirement already satisfied (use --upgrade to upgrade): imbalanced-learn in /usr/local/lib/python2.7/dist-packages\n",
      "Requirement already satisfied (use --upgrade to upgrade): scikit-learn>=0.17.1 in /usr/local/lib/python2.7/dist-packages (from imbalanced-learn)\n",
      "Requirement already satisfied (use --upgrade to upgrade): numpy>=1.10.4 in /usr/local/lib/python2.7/dist-packages (from imbalanced-learn)\n",
      "Requirement already satisfied (use --upgrade to upgrade): scipy>=0.17.0 in /usr/local/lib/python2.7/dist-packages (from imbalanced-learn)\n"
     ]
    },
    {
     "data": {
      "text/plain": [
       "0"
      ]
     },
     "execution_count": 3,
     "metadata": {},
     "output_type": "execute_result"
    }
   ],
   "source": [
    "main(['install', 'imbalanced-learn'])"
   ]
  },
  {
   "cell_type": "code",
   "execution_count": 4,
   "metadata": {
    "collapsed": false
   },
   "outputs": [],
   "source": [
    "import matplotlib.pyplot as plt"
   ]
  },
  {
   "cell_type": "code",
   "execution_count": null,
   "metadata": {
    "collapsed": false
   },
   "outputs": [],
   "source": [
    ""
   ]
  },
  {
   "cell_type": "code",
   "execution_count": null,
   "metadata": {
    "collapsed": false
   },
   "outputs": [],
   "source": [
    ""
   ]
  },
  {
   "cell_type": "code",
   "execution_count": 5,
   "metadata": {
    "collapsed": false
   },
   "outputs": [],
   "source": [
    "# data_path = \"IMDB_reviews.tsv\"\n",
    "# df = pd.read_csv(data_path, sep='\\t')\n",
    "# df['class'] = df.id.apply(lambda s: s.split('_')[1]).astype('int')\n",
    "# df['id'] = df.id.apply(lambda s: s.split('_')[0]).astype('int')"
   ]
  },
  {
   "cell_type": "code",
   "execution_count": 6,
   "metadata": {
    "collapsed": true
   },
   "outputs": [],
   "source": [
    "data_path = \"sentiment_restaurant.csv\"\n",
    "df = pd.read_csv(data_path, sep=',')\n",
    "df.columns = ['sentiment', 'review']\n",
    "df = df[:2000000]"
   ]
  },
  {
   "cell_type": "code",
   "execution_count": 7,
   "metadata": {
    "collapsed": true
   },
   "outputs": [],
   "source": [
    "def get_train_val_test_inds(y,train_proportion=0.8, val_proportion=0.1):\n",
    "    '''\n",
    "    stratified sampling\n",
    "    '''\n",
    "    if train_proportion + val_proportion >= 1:\n",
    "        raise Exception(\"\")\n",
    "    y=np.array(y)\n",
    "    train_inds = np.zeros(len(y),dtype=bool)\n",
    "    val_inds = np.zeros(len(y),dtype=bool)\n",
    "    test_inds = np.zeros(len(y),dtype=bool)\n",
    "    values = np.unique(y)\n",
    "    for value in values:\n",
    "        value_inds = np.nonzero(y==value)[0]\n",
    "        np.random.shuffle(value_inds)\n",
    "        n1 = int(train_proportion * len(value_inds))\n",
    "        n2 = n1 + int((val_proportion) * len(value_inds))\n",
    "\n",
    "        train_inds[value_inds[:n1]]=True\n",
    "        val_inds[value_inds[n1:n2]]=True\n",
    "        test_inds[value_inds[n2:]]=True\n",
    "\n",
    "    return train_inds, val_inds, test_inds"
   ]
  },
  {
   "cell_type": "code",
   "execution_count": 115,
   "metadata": {
    "collapsed": true
   },
   "outputs": [],
   "source": [
    "train_inds, val_inds, test_inds = get_train_val_test_inds(df.sentiment)\n",
    "DF_train, DF_val, DF_test = df[train_inds], df[val_inds], df[test_inds]"
   ]
  },
  {
   "cell_type": "code",
   "execution_count": 9,
   "metadata": {
    "collapsed": false
   },
   "outputs": [],
   "source": [
    "vec_size = 300\n",
    "def words_tokenizer(text_series):\n",
    "    regex = re.compile('[^a-zA-Z ]')\n",
    "    result = []\n",
    "    for text in text_series:\n",
    "        result.append(re.sub(regex, '', text).lower())\n",
    "    return result"
   ]
  },
  {
   "cell_type": "code",
   "execution_count": 10,
   "metadata": {
    "collapsed": true
   },
   "outputs": [],
   "source": [
    "def get_words_dict(df, vocab, topN=100000):\n",
    "    counter = Counter(re.findall(r\"[\\w']+\", \" \".join(words_tokenizer(df.review))))\n",
    "    words_dict = list(filter(lambda (w, c): len(w) >= 2, counter.items()))\n",
    "    common = set(vocab.keys()).intersection(set(map(operator.itemgetter(0), words_dict)))\n",
    "    words_dict = list(filter(lambda (w, c): w in common, words_dict))\n",
    "    words_dict = sorted(words_dict, key=operator.itemgetter(1), reverse=True)[:topN]\n",
    "    words_dict = dict((pair[0], i) for i, pair in enumerate(words_dict))\n",
    "    return words_dict, common"
   ]
  },
  {
   "cell_type": "code",
   "execution_count": 11,
   "metadata": {
    "collapsed": false
   },
   "outputs": [
    {
     "name": "stdout",
     "output_type": "stream",
     "text": [
      "loading projection weights from GoogleNews-vectors-negative300.bin\n",
      "loaded (3000000, 300) matrix from GoogleNews-vectors-negative300.bin\n"
     ]
    }
   ],
   "source": [
    "model = gensim.models.Word2Vec.load_word2vec_format('GoogleNews-vectors-negative300.bin', binary=True)"
   ]
  },
  {
   "cell_type": "code",
   "execution_count": 12,
   "metadata": {
    "collapsed": false
   },
   "outputs": [],
   "source": [
    "words_dict, common_words = get_words_dict(df, model.vocab)"
   ]
  },
  {
   "cell_type": "code",
   "execution_count": 13,
   "metadata": {
    "collapsed": false
   },
   "outputs": [],
   "source": [
    "embeddings_matrix = model.syn0[[model.vocab[word].index for word in common_words]]\n",
    "common_words = list(common_words)\n",
    "trimmed_dict = dict((x, i) for i,x in enumerate(common_words))\n",
    "# from pickle import load\n",
    "# with open('embeddings.pkl', 'r') as f:\n",
    "#     model = load(f)\n",
    "# embeddings = model['embeddings']\n",
    "# dictionary = model['dictionary']\n",
    "\n",
    "# common_words = set(words_dict.keys()).intersection(set(dictionary.keys()))\n",
    "# embeddings_matrix = embeddings[[dictionary[word] for word in common_words]]\n",
    "# common_words = list(common_words)\n",
    "# trimmed_dict = dict((x, i) for i,x in enumerate(common_words))\n",
    "# reverse_dict = dict((i, x) for i,x in enumerate(common_words))"
   ]
  },
  {
   "cell_type": "code",
   "execution_count": 14,
   "metadata": {
    "collapsed": false
   },
   "outputs": [
    {
     "data": {
      "text/plain": [
       "94653"
      ]
     },
     "execution_count": 14,
     "metadata": {},
     "output_type": "execute_result"
    }
   ],
   "source": [
    "len(common_words)"
   ]
  },
  {
   "cell_type": "code",
   "execution_count": 15,
   "metadata": {
    "collapsed": true
   },
   "outputs": [],
   "source": [
    "def word_2_vec(model, word):\n",
    "    if word in model:\n",
    "        return model[word]\n",
    "    return None\n",
    "\n",
    "def text_2_vec(text):\n",
    "    regex = re.compile('[^a-zA-Z ]')\n",
    "    words = re.sub(regex, '', text).lower().split()\n",
    "    res = np.zeros((0, vec_size))\n",
    "    for word in words:\n",
    "        vec = word_2_vec(model, word)\n",
    "        if vec is not None:\n",
    "            res = np.vstack((res, vec.reshape(1, vec_size)))\n",
    "    return res\n",
    "\n",
    "# def word_2_vec(word):\n",
    "#     if word in dictionary:\n",
    "#         return embeddings[dictionary[word]]\n",
    "#     return None\n",
    "\n",
    "# def text_2_vec(text):\n",
    "#     regex = re.compile('[^a-zA-Z ]')\n",
    "#     words = re.sub(regex, '', text).lower().split()\n",
    "#     res = np.zeros((0, vec_size))\n",
    "#     for word in words:\n",
    "#         vec = word_2_vec(word)\n",
    "#         if vec is not None:\n",
    "#             res = np.vstack((res, vec.reshape(1, vec_size)))\n",
    "#     return res\n",
    "\n",
    "def word_2_id(word):\n",
    "    if word in trimmed_dict:\n",
    "        return np.array(trimmed_dict[word])\n",
    "    return None\n",
    "\n",
    "def text_2_id(text):\n",
    "    regex = re.compile('[^a-zA-Z ]')\n",
    "    words = re.sub(regex, '', text).lower().split()\n",
    "    res = np.zeros((0, 1), dtype='int32')\n",
    "    for word in words:\n",
    "        vec = word_2_id(word)\n",
    "        if vec is not None:\n",
    "            res = np.vstack((res, vec))\n",
    "    return res"
   ]
  },
  {
   "cell_type": "code",
   "execution_count": 16,
   "metadata": {
    "collapsed": true
   },
   "outputs": [],
   "source": [
    "def get_data_block(df, block_size=1000, shift=0, max_len=None):\n",
    "    X_temp = [0] * min(block_size, len(df))\n",
    "    for i in range(min(block_size, len(df) - shift)):\n",
    "        vec = text_2_id(df.iloc[shift + i].review)\n",
    "        X_temp[i] = vec\n",
    "    X_temp = np.array(X_temp)\n",
    "    if max_len is None:\n",
    "        max_len = max(map(lambda x: len(x), X_temp))\n",
    "    X = np.zeros((len(X_temp), max_len))\n",
    "    for i in range(len(X_temp)):\n",
    "#         X[i,:X_temp[i].shape[0],:] = X_temp[i]\n",
    "        temp_vec = X_temp[i][:min(max_len, X_temp[i].shape[0])]\n",
    "        X[i,:min(max_len, X_temp[i].shape[0])] = temp_vec.reshape((len(temp_vec),))\n",
    "    Y = df.sentiment[shift:shift + len(X)] / 5\n",
    "    Y.reset_index(drop=True, inplace=True)\n",
    "    Y = pd.DataFrame(Y)\n",
    "    return X, Y.as_matrix(), max_len"
   ]
  },
  {
   "cell_type": "code",
   "execution_count": 17,
   "metadata": {
    "collapsed": false
   },
   "outputs": [
    {
     "name": "stderr",
     "output_type": "stream",
     "text": [
      "Using Theano backend.\n",
      "Using gpu device 0: GeForce GTX 660 (CNMeM is enabled with initial size: 50.0% of memory, cuDNN not available)\n"
     ]
    }
   ],
   "source": [
    "import keras.models\n",
    "from keras.models import Sequential\n",
    "from keras.layers import Dense, Masking, Dropout, Embedding\n",
    "from keras.layers import TimeDistributed, Flatten, Merge\n",
    "from keras.layers.pooling import GlobalAveragePooling1D\n",
    "from keras.layers.embeddings import Embedding\n",
    "from keras.layers.recurrent import GRU, LSTM, SimpleRNN\n",
    "from keras.layers.normalization import BatchNormalization\n",
    "from keras.regularizers import l2, activity_l2, l1, activity_l1\n",
    "from keras.optimizers import Adam, Nadam\n",
    "from keras import backend as K"
   ]
  },
  {
   "cell_type": "code",
   "execution_count": 18,
   "metadata": {
    "collapsed": true
   },
   "outputs": [],
   "source": [
    "def plt_update(fig, ax, y, colors=['b']):\n",
    "    x = np.linspace(0,1,len(y))\n",
    "    if ax.lines:\n",
    "        for line in ax.lines:\n",
    "            line.set_xdata(x)\n",
    "            line.set_ydata(y)\n",
    "    else:\n",
    "        for color in colors:\n",
    "            ax.plot(x, y, color)\n",
    "    fig.canvas.draw()"
   ]
  },
  {
   "cell_type": "code",
   "execution_count": 19,
   "metadata": {
    "collapsed": true
   },
   "outputs": [],
   "source": [
    "from sklearn.metrics import accuracy_score"
   ]
  },
  {
   "cell_type": "code",
   "execution_count": 20,
   "metadata": {
    "collapsed": false
   },
   "outputs": [],
   "source": [
    "def train_rnn(DF_train, Keras_model, max_len, X_val, Y_val):\n",
    "    fig,ax = plt.subplots(1,1)\n",
    "    ax.set_xlabel('iteration')\n",
    "    ax.set_ylabel('loss')\n",
    "    ax.set_xlim(0,1)\n",
    "    ax.set_ylim(0.0,0.5)\n",
    "    loss_series = []    \n",
    "    block_size = 80\n",
    "    nb_epoch = 1\n",
    "    for epoch in range(nb_epoch):\n",
    "        total_cnt = 0\n",
    "        rigth_cnt = 0\n",
    "        for i in range(int(ceil(len(DF_train) * 1.0 / block_size))):\n",
    "            shift = i * block_size\n",
    "            cur_size = min(block_size, len(DF_train) - shift)\n",
    "            X_train, Y_train, _ = get_data_block(DF_train, shift=shift, block_size=cur_size, max_len=max_len)\n",
    "            metrics = Keras_model.train_on_batch(X_train, Y_train)\n",
    "            total_cnt += block_size\n",
    "            rigth_cnt += int(metrics[1].item() * block_size)\n",
    "            accuracy = rigth_cnt * 1.0 / total_cnt\n",
    "            loss = metrics[0].item()\n",
    "            loss_series += [loss]\n",
    "            plt_update(fig, ax, loss_series)\n",
    "#             print(\"Epoch %s, batch %s, results %s\" % (epoch, i, [metrics[0].item(), accuracy]))\n",
    "        loss_and_metrics = Keras_model.evaluate(X_val, Y_val, batch_size=block_size)\n",
    "        print(loss_and_metrics)\n",
    "\n",
    "def test_rnn(X_val, Y_val, Keras_model):\n",
    "    loss_and_metrics = Keras_model.evaluate(X_val, Y_val, batch_size=80)\n",
    "    print(loss_and_metrics)"
   ]
  },
  {
   "cell_type": "code",
   "execution_count": 21,
   "metadata": {
    "collapsed": true
   },
   "outputs": [],
   "source": [
    "max_len = 200"
   ]
  },
  {
   "cell_type": "code",
   "execution_count": 22,
   "metadata": {
    "collapsed": false
   },
   "outputs": [],
   "source": [
    "Keras_model = Sequential()\n",
    "# M = Masking(mask_value=0,input_shape=(max_len, vec_size))\n",
    "# Keras_model.add(M)\n",
    "Keras_model.add(Embedding(len(embeddings_matrix),\n",
    "                            vec_size,\n",
    "                            weights=[embeddings_matrix],\n",
    "                            input_length=max_len,\n",
    "                            trainable=True))\n",
    "Keras_model.add(LSTM(vec_size, return_sequences=False))\n",
    "Keras_model.add(Dropout(0.5))\n",
    "Keras_model.add((Dense(output_dim=100, activation='tanh')))\n",
    "Keras_model.add(Dropout(0.5))\n",
    "Keras_model.add((Dense(output_dim=20, activation='tanh')))\n",
    "Keras_model.add(Dropout(0.5))\n",
    "Keras_model.add((Dense(output_dim=2, activation='tanh')))\n",
    "# Keras_model.add(Dropout(0.5))\n",
    "# Keras_model.add(GlobalAveragePooling1D())\n",
    "Keras_model.add(Dropout(0.5))\n",
    "# Keras_model.add(BatchNormalization())\n",
    "Keras_model.add(Dense(1, activation=\"tanh\")) #W_regularizer=l1(0.01), activity_regularizer=activity_l1(0.01)\n",
    "optimizer = Adam(lr=0.0001)\n",
    "Keras_model.compile(optimizer=optimizer, loss='mse', metrics=['accuracy'])"
   ]
  },
  {
   "cell_type": "code",
   "execution_count": 125,
   "metadata": {
    "collapsed": false,
    "scrolled": false
   },
   "outputs": [],
   "source": [
    "# from imblearn.under_sampling import AllKNN\n",
    "# allknn = AllKNN()\n",
    "import imblearn\n",
    "imblearn = reload(imblearn)\n",
    "def undersample(df):\n",
    "    under_sampler = imblearn.RandomUnderSampler()\n",
    "    DF_train_indices = pd.DataFrame(range(len(df)))\n",
    "    X_train = np.expand_dims(DF_train_indices.as_matrix(), axis=1)\n",
    "    Y_train = df.sentiment.as_matrix()\n",
    "    DF_train_resampled_idx, _ = under_sampler.fit_sample(X_train, Y_train)\n",
    "    DF_train_resampled = DF_train.iloc[np.squeeze(DF_train_resampled_idx)]\n",
    "    DF_train_resampled = DF_train_resampled.iloc[np.random.permutation(np.arange(len(DF_train_resampled)))]\n",
    "    return DF_train_resampled"
   ]
  },
  {
   "cell_type": "code",
   "execution_count": 129,
   "metadata": {
    "collapsed": false
   },
   "outputs": [
    {
     "name": "stdout",
     "output_type": "stream",
     "text": [
      "Compute classes statistics ...\n",
      "5 classes detected: Counter({5: 620112, 4: 428937, 3: 206056, 1: 204437, 2: 140456})\n",
      "Under-sampling performed: Counter({1: 140456, 2: 140456, 3: 140456, 4: 140456, 5: 140456})\n"
     ]
    }
   ],
   "source": [
    "DF_train_resampled = undersample(DF_train)"
   ]
  },
  {
   "cell_type": "code",
   "execution_count": 128,
   "metadata": {
    "collapsed": false
   },
   "outputs": [
    {
     "name": "stdout",
     "output_type": "stream",
     "text": [
      "Compute classes statistics ...\n",
      "5 classes detected: Counter({5: 77514, 4: 53617, 3: 25757, 1: 25554, 2: 17557})\n",
      "Under-sampling performed: Counter({1: 17557, 2: 17557, 3: 17557, 4: 17557, 5: 17557})\n"
     ]
    }
   ],
   "source": [
    "DF_val_resampled = undersample(DF_val)"
   ]
  },
  {
   "cell_type": "code",
   "execution_count": 130,
   "metadata": {
    "collapsed": true
   },
   "outputs": [],
   "source": [
    "X_val, Y_val, _ = get_data_block(DF_val_resampled, shift=0, block_size=len(DF_val_resampled), max_len=max_len)"
   ]
  },
  {
   "cell_type": "code",
   "execution_count": null,
   "metadata": {
    "collapsed": false,
    "scrolled": false
   },
   "outputs": [
    {
     "data": {
      "text/plain": [
       "<IPython.core.display.Javascript object>"
      ]
     },
     "metadata": {},
     "output_type": "display_data"
    },
    {
     "data": {
      "text/html": [
       "<img src=\"data:image/png;base64,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\">"
      ],
      "text/plain": [
       "<IPython.core.display.HTML object>"
      ]
     },
     "metadata": {},
     "output_type": "execute_result"
    }
   ],
   "source": [
    "train_rnn(DF_train_resampled, Keras_model, max_len, X_val, Y_val)"
   ]
  },
  {
   "cell_type": "code",
   "execution_count": null,
   "metadata": {
    "collapsed": false
   },
   "outputs": [],
   "source": [
    "X_test, Y_test, _ = get_data_block(DF_test, shift=0, block_size=2500, max_len=max_len)"
   ]
  },
  {
   "cell_type": "code",
   "execution_count": null,
   "metadata": {
    "collapsed": false,
    "scrolled": true
   },
   "outputs": [],
   "source": [
    "test_rnn(X_test, Y_test, Keras_model)"
   ]
  },
  {
   "cell_type": "code",
   "execution_count": null,
   "metadata": {
    "collapsed": false,
    "scrolled": true
   },
   "outputs": [],
   "source": [
    "Y_pred = Keras_model.predict(X_val, batch_size=80)"
   ]
  },
  {
   "cell_type": "code",
   "execution_count": null,
   "metadata": {
    "collapsed": false
   },
   "outputs": [],
   "source": [
    "diff_val = (abs(Y_pred - Y_val))\n",
    "print(len(diff_val[diff_val <= 0.4]) * 1.0 /len(diff_val))"
   ]
  },
  {
   "cell_type": "code",
   "execution_count": null,
   "metadata": {
    "collapsed": false
   },
   "outputs": [],
   "source": [
    ""
   ]
  },
  {
   "cell_type": "code",
   "execution_count": null,
   "metadata": {
    "collapsed": false
   },
   "outputs": [],
   "source": [
    "np.hstack((Y_pred, Y_val))"
   ]
  },
  {
   "cell_type": "code",
   "execution_count": null,
   "metadata": {
    "collapsed": false
   },
   "outputs": [],
   "source": [
    "(abs(Y_pred - Y_val)).mean()"
   ]
  },
  {
   "cell_type": "code",
   "execution_count": null,
   "metadata": {
    "collapsed": false
   },
   "outputs": [],
   "source": [
    "from pickle import dump\n",
    "with open(\"sentiment_model.pkl\", \"w+\") as f:\n",
    "    dump(trimmed_dict, f)"
   ]
  },
  {
   "cell_type": "code",
   "execution_count": null,
   "metadata": {
    "collapsed": true
   },
   "outputs": [],
   "source": [
    "Keras_model.save(\"sentiment_model_keras.pkl\")"
   ]
  },
  {
   "cell_type": "code",
   "execution_count": null,
   "metadata": {
    "collapsed": false
   },
   "outputs": [],
   "source": [
    "X_test, Y_test, _ = get_data_block(DF_train[DF_train.sentiment < 3], shift=0, block_size=100000, max_len=max_len)"
   ]
  },
  {
   "cell_type": "code",
   "execution_count": null,
   "metadata": {
    "collapsed": false
   },
   "outputs": [],
   "source": [
    "test_rnn(X_test, Y_test, Keras_model)"
   ]
  },
  {
   "cell_type": "code",
   "execution_count": null,
   "metadata": {
    "collapsed": true
   },
   "outputs": [],
   "source": [
    "Y_pred = Keras_model.predict(X_test, batch_size=80)"
   ]
  },
  {
   "cell_type": "code",
   "execution_count": null,
   "metadata": {
    "collapsed": false
   },
   "outputs": [],
   "source": [
    "diff_val = (abs(Y_pred - Y_test))\n",
    "print(len(diff_val[diff_val <= 0.3]) * 1.0 /len(diff_val))"
   ]
  },
  {
   "cell_type": "code",
   "execution_count": null,
   "metadata": {
    "collapsed": false
   },
   "outputs": [],
   "source": [
    "text = \"\""
   ]
  },
  {
   "cell_type": "code",
   "execution_count": null,
   "metadata": {
    "collapsed": false
   },
   "outputs": [],
   "source": [
    "def calc_sentiment(text):\n",
    "    input_len = Keras_model.layers[0].input_shape[1] # 200\n",
    "    vec_id = text_2_id(text)\n",
    "    if len(vec_id) < input_len:\n",
    "        vec_id_tmp = np.zeros((1, input_len))\n",
    "        vec_id_tmp[:,:len(vec_id)] = np.array(vec_id).reshape((1, len(vec_id)))\n",
    "        vec_id = vec_id_tmp\n",
    "    begin_i = 0\n",
    "    end_i = min(len(vec_id), input_len)\n",
    "    sentiment_res = []\n",
    "    while end_i <= len(vec_id):\n",
    "        text_df = np.array(vec_id[begin_i:end_i]).reshape((1, input_len))\n",
    "        sent = Keras_model.predict(text_df, batch_size=1)[0][0]\n",
    "        sentiment_res += [sent]\n",
    "        if end_i == len(vec_id):\n",
    "            break\n",
    "        end_i = min(end_i + input_len, len(vec_id))\n",
    "        begin_i = end_i - input_len\n",
    "    if len(sentiment_res) > 1:\n",
    "        sentiment_res[-2] = (sentiment_res[-2] + sentiment_res[-1]) / 2\n",
    "        del sentiment_res[-1]\n",
    "    return np.array(sentiment_res).mean()"
   ]
  },
  {
   "cell_type": "code",
   "execution_count": null,
   "metadata": {
    "collapsed": false
   },
   "outputs": [],
   "source": [
    "calc_sentiment(text)"
   ]
  },
  {
   "cell_type": "code",
   "execution_count": null,
   "metadata": {
    "collapsed": false
   },
   "outputs": [],
   "source": [
    "Keras_model.layers[0].input_shape[1]"
   ]
  },
  {
   "cell_type": "code",
   "execution_count": null,
   "metadata": {
    "collapsed": false
   },
   "outputs": [],
   "source": [
    ""
   ]
  },
  {
   "cell_type": "code",
   "execution_count": null,
   "metadata": {
    "collapsed": true
   },
   "outputs": [],
   "source": [
    "from sklearn.decomposition import TruncatedSVD, PCA"
   ]
  },
  {
   "cell_type": "code",
   "execution_count": null,
   "metadata": {
    "collapsed": false
   },
   "outputs": [],
   "source": [
    "word_top={'some', 'that', 'good', 'film', 'they', 'what', 'movie', 'would', 'just', 'even', 'from', 'there', 'when', 'like', 'about', 'with', 'very', 'this', 'have', 'more'}\n",
    "\n",
    "tsne = TruncatedSVD(n_components=2)\n",
    "two_d_embeddings = tsne.fit_transform(embeddings[target_indices, :])\n",
    "def plot(embeddings, labels):\n",
    "  assert embeddings.shape[0] >= len(labels), 'More labels than embeddings'\n",
    "  plt.figure(figsize=(12,12))  # in inches\n",
    "  for i, label in enumerate(labels):\n",
    "    x, y = embeddings[i,:]\n",
    "    plt.scatter(x, y)\n",
    "    plt.annotate(label, xy=(x, y), xytext=(5, 2), textcoords='offset points',\n",
    "                   ha='right', va='bottom')\n",
    "  plt.show()\n",
    "\n",
    "plot(two_d_embeddings, word_top)"
   ]
  },
  {
   "cell_type": "code",
   "execution_count": null,
   "metadata": {
    "collapsed": false
   },
   "outputs": [],
   "source": [
    "block_size = 2\n",
    "shift = 10\n",
    "X_temp = [0] * min(block_size, len(df))\n",
    "for i in range(min(block_size, len(df) - shift)):\n",
    "    vec = text_2_id(df.iloc[shift + i].review)\n",
    "    X_temp[i] = vec\n",
    "X_temp = np.array(X_temp)\n",
    "if max_len is None:\n",
    "    max_len = max(map(lambda x: len(x), X_temp))\n",
    "X = np.zeros((len(X_temp), max_len))\n",
    "for i in range(len(X_temp)):\n",
    "#         X[i,:X_temp[i].shape[0],:] = X_temp[i]\n",
    "    temp_vec = X_temp[i][:min(max_len, X_temp[i].shape[0])]\n",
    "    X[i,:min(max_len, X_temp[i].shape[0])] = temp_vec.reshape((len(temp_vec),))\n",
    "Y = df.sentiment[shift:shift + len(X)]\n",
    "Y.reset_index(drop=True, inplace=True)\n",
    "Y = pd.DataFrame(Y)\n",
    "pd.DataFrame(Y)['not_sentiment'] = np.abs(Y-1)\n",
    "Y = Y.as_matrix()"
   ]
  },
  {
   "cell_type": "code",
   "execution_count": null,
   "metadata": {
    "collapsed": false
   },
   "outputs": [],
   "source": [
    "\" \".join(map(lambda x: reverse_dict[x[0]], X_temp[1])), Y[1]"
   ]
  },
  {
   "cell_type": "code",
   "execution_count": null,
   "metadata": {
    "collapsed": false
   },
   "outputs": [],
   "source": [
    "df.review[11], df.sentiment[11]"
   ]
  },
  {
   "cell_type": "code",
   "execution_count": null,
   "metadata": {
    "collapsed": false
   },
   "outputs": [],
   "source": [
    "reverse_dict[0]"
   ]
  }
 ],
 "metadata": {
  "kernelspec": {
   "display_name": "Python 2",
   "language": "python",
   "name": "python2"
  },
  "language_info": {
   "codemirror_mode": {
    "name": "ipython",
    "version": 2.0
   },
   "file_extension": ".py",
   "mimetype": "text/x-python",
   "name": "python",
   "nbconvert_exporter": "python",
   "pygments_lexer": "ipython2",
   "version": "2.7.6"
  }
 },
 "nbformat": 4,
 "nbformat_minor": 0
}